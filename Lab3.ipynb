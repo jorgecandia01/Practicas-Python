{
 "cells": [
  {
   "cell_type": "markdown",
   "metadata": {},
   "source": [
    "# Lab 3: Data types and data structures.\n",
    "\n",
    "### Student: Jorge Candia\n",
    "### Group: GITT 1ºA\n",
    "### Date: 24/09/2109"
   ]
  },
  {
   "cell_type": "markdown",
   "metadata": {},
   "source": [
    "# Lab 3.2. Vowels and consonants classifier"
   ]
  },
  {
   "cell_type": "code",
   "execution_count": 9,
   "metadata": {},
   "outputs": [
    {
     "name": "stdout",
     "output_type": "stream",
     "text": [
      "write a sentence: hola\n"
     ]
    }
   ],
   "source": [
    "vowels=\"aeiou\"\n",
    "VOWELS=\"AEIOU\"\n",
    "sentence=input(\"write a sentence: \")"
   ]
  },
  {
   "cell_type": "code",
   "execution_count": 10,
   "metadata": {},
   "outputs": [
    {
     "name": "stdout",
     "output_type": "stream",
     "text": [
      "['o', 'a']\n",
      "[]\n",
      "['h', 'l']\n"
     ]
    }
   ],
   "source": [
    "vowels_list=[]\n",
    "VOWELS_list=[]\n",
    "consonant_list=[]\n",
    "for i in sentence:\n",
    "    #i=n\n",
    "    if i in vowels:\n",
    "        vowels_list.append(i)\n",
    "    elif i in VOWELS:\n",
    "            VOWELS_list.append(i)\n",
    "    else:\n",
    "            consonant_list.append(i)\n",
    "                \n",
    "\n",
    "print(vowels_list)\n",
    "print(VOWELS_list)\n",
    "print(consonant_list)"
   ]
  },
  {
   "cell_type": "markdown",
   "metadata": {},
   "source": [
    "# Lab 3.3. Matrix multiplication"
   ]
  },
  {
   "cell_type": "code",
   "execution_count": 2,
   "metadata": {},
   "outputs": [
    {
     "name": "stdout",
     "output_type": "stream",
     "text": [
      "[[12, 11, 4], [23, 19, 10], [40, 40, 8]]\n"
     ]
    }
   ],
   "source": [
    "A=[[1,2,1],[3,3,4],[0,8,0]]\n",
    "B=[[0,0,1],[5,5,1],[2,1,1]]\n",
    "C=[[0,0,0],[0,0,0],[0,0,0]]\n",
    "BT=list(zip(*B))\n",
    "C=[[0, 0, 0], [0, 0, 0], [0, 0, 0]]\n",
    "for row in [0,1,2]:\n",
    "    for column in [0,1,2]:\n",
    "        C[row][column]=A[row][0]*BT[column][0]+A[row][1]*BT[column][1]+A[row][2]*BT[column][2]\n",
    "        \n",
    "print(C)\n",
    "\n"
   ]
  },
  {
   "cell_type": "markdown",
   "metadata": {},
   "source": [
    "# Lab 3.4. Hands on lists methods\n",
    "\n"
   ]
  },
  {
   "cell_type": "code",
   "execution_count": 3,
   "metadata": {},
   "outputs": [
    {
     "name": "stdout",
     "output_type": "stream",
     "text": [
      "[8, 2.3, 'hola']\n",
      "[8, 2.3, 'hola', (1, 2, 3), [0, 1, 5, 2, 7, 3, 6]]\n",
      "[(1, 2, 3), [0, 1, 5, 2, 7, 3, 6]]\n",
      "1\n",
      "1\n",
      "8\n",
      "7\n",
      "['asd', 'asd23', 234234, 'element', 76, [0, 1, 2, 3, 5, 6, 7], (1, 2, 3), 2.3]\n"
     ]
    }
   ],
   "source": [
    "variable=[8,2.3,\"hola\",(1,2,3),[0,1,5,2,7,3,6]]\n",
    "print(variable[:3])\n",
    "print(variable[:])\n",
    "print(variable[3:])\n",
    "print(1)\n",
    "list.append(variable,76)\n",
    "list.sort(variable[4])\n",
    "list.extend(variable,[234234,\"asd23\",\"asd\"])\n",
    "list.reverse(variable) \n",
    "list.insert(variable,3,\"element\")\n",
    "list.remove(variable,\"hola\")\n",
    "print(list.count(variable,2.3))\n",
    "print(list.pop(variable))\n",
    "print(list.index(variable,2.3))\n",
    "\n",
    "\n",
    "\n",
    "print(variable)"
   ]
  },
  {
   "cell_type": "markdown",
   "metadata": {},
   "source": [
    "# Lab 3.5. Saving student grades with dictionaries"
   ]
  },
  {
   "cell_type": "code",
   "execution_count": 4,
   "metadata": {},
   "outputs": [
    {
     "name": "stdout",
     "output_type": "stream",
     "text": [
      "Jorge\n",
      "La media de  Jorge  es:  6.083333333333333\n",
      "Jaime\n",
      "La media de  Jaime  es:  5.633333333333333\n",
      "Juan\n",
      "La media de  Juan  es:  3.6666666666666665\n",
      "La media del grupo es:  5.127777777777777\n"
     ]
    }
   ],
   "source": [
    "student1={}\n",
    "student2={}\n",
    "student3={}\n",
    "\n",
    "student1[\"name\"]=\"Jorge\"\n",
    "student2[\"name\"]=\"Jaime\"\n",
    "student3[\"name\"]=\"Juan\"\n",
    "student1[\"id\"]=12345\n",
    "student2[\"id\"]=12346\n",
    "student3[\"id\"]=12347\n",
    "student1[\"grades\"]=[4.0,7.5,6.75]\n",
    "student2[\"grades\"]=[3.0,6.4,7.5]\n",
    "student3[\"grades\"]=[3.5,3.5,4.0]\n",
    "\n",
    "students_data={}\n",
    "\n",
    "students_data[\"student1\"]=student1\n",
    "students_data[\"student2\"]=student2\n",
    "students_data[\"student3\"]=student3\n",
    "\n",
    "media=0\n",
    "for i in students_data:\n",
    "    for a in students_data[i].keys():\n",
    "        if a==\"name\":\n",
    "            print (students_data[i][a])\n",
    "            b=(students_data[i][a])\n",
    "            \n",
    "        elif a==\"grades\":\n",
    "            c=sum(students_data[i][a])/3\n",
    "            print (\"La media de \",b,\" es: \",c)\n",
    "            media=media+c\n",
    "\n",
    "\n",
    "media=media/3            \n",
    "print(\"La media del grupo es: \",media)"
   ]
  },
  {
   "cell_type": "code",
   "execution_count": 14,
   "metadata": {},
   "outputs": [
    {
     "data": {
      "text/plain": [
       "{'student1': {'name': 'Jorge', 'id': 12345, 'grades': [4.0, 7.5, 6.75]},\n",
       " 'student2': {'name': 'Jaime', 'id': 12346, 'grades': [3.0, 6.4, 7.5]},\n",
       " 'student3': {'name': 'Juan', 'id': 12347, 'grades': [3.5, 3.5, 4.0]}}"
      ]
     },
     "execution_count": 14,
     "metadata": {},
     "output_type": "execute_result"
    }
   ],
   "source": [
    "students_data"
   ]
  },
  {
   "cell_type": "code",
   "execution_count": 16,
   "metadata": {},
   "outputs": [
    {
     "data": {
      "text/plain": [
       "dict"
      ]
     },
     "execution_count": 16,
     "metadata": {},
     "output_type": "execute_result"
    }
   ],
   "source": [
    "type(students_data['student1'])"
   ]
  },
  {
   "cell_type": "code",
   "execution_count": 25,
   "metadata": {},
   "outputs": [],
   "source": [
    "asd=list(student1.items())"
   ]
  },
  {
   "cell_type": "code",
   "execution_count": 26,
   "metadata": {},
   "outputs": [
    {
     "data": {
      "text/plain": [
       "{'name': 'Jorge', 'id': 12345, 'grades': [4.0, 7.5, 6.75]}"
      ]
     },
     "execution_count": 26,
     "metadata": {},
     "output_type": "execute_result"
    }
   ],
   "source": [
    "student1"
   ]
  },
  {
   "cell_type": "code",
   "execution_count": 37,
   "metadata": {},
   "outputs": [
    {
     "data": {
      "text/plain": [
       "14.4"
      ]
     },
     "execution_count": 37,
     "metadata": {},
     "output_type": "execute_result"
    }
   ],
   "source": [
    "lista=[1,2,3,3.4,5]\n",
    "suma=sum(lista)\n",
    "suma"
   ]
  },
  {
   "cell_type": "code",
   "execution_count": 1,
   "metadata": {},
   "outputs": [],
   "source": [
    "import time\n",
    "time.sleep(10)"
   ]
  }
 ],
 "metadata": {
  "kernelspec": {
   "display_name": "Python 3",
   "language": "python",
   "name": "python3"
  },
  "language_info": {
   "codemirror_mode": {
    "name": "ipython",
    "version": 3
   },
   "file_extension": ".py",
   "mimetype": "text/x-python",
   "name": "python",
   "nbconvert_exporter": "python",
   "pygments_lexer": "ipython3",
   "version": "3.7.3"
  }
 },
 "nbformat": 4,
 "nbformat_minor": 2
}
