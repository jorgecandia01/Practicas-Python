{
 "cells": [
  {
   "cell_type": "code",
   "execution_count": 13,
   "metadata": {},
   "outputs": [],
   "source": [
    "from urllib.request import urlopen\n",
    "from bs4 import BeautifulSoup\n",
    "import csv\n",
    "from unidecode import unidecode\n",
    "\n",
    "myUrl = 'https://en.wikipedia.org/wiki/List_of_French_Open_men%27s_singles_champions'\n",
    "\n",
    "# Conectarse al servidor y obtener la pagina\n",
    "uClient = urlopen(myUrl)\n",
    "pagina_html = unidecode(uClient.read().decode(\"utf8\"))\n",
    "uClient.close()\n",
    "\n",
    "#html parsing\n",
    "pagina_soup = BeautifulSoup(pagina_html, \"html.parser\")\n",
    "\n",
    "#Datos\n",
    "tabla = pagina_soup.findAll(\"table\")\n",
    "tabla_body = tabla[3].find('tbody')\n",
    "\n",
    "data = []\n",
    "rows = tabla_body.find_all('tr')\n",
    "\n",
    "for row in rows:\n",
    "    cols = row.find_all('td')\n",
    "    cols = [ele.text.strip() for ele in cols]\n",
    "    data.append([ele for ele in cols if ele]) # Para quitar los espacios\n",
    "\n",
    "with open(\"rolandGarros2.csv\", 'w', newline='') as myfile:\n",
    "    wr = csv.writer(myfile, quoting=csv.QUOTE_ALL)\n",
    "    for row in data:\n",
    "        wr.writerow(row)\n",
    "\n",
    "#exec(open(\"script.py\").read())\n"
   ]
  },
  {
   "cell_type": "code",
   "execution_count": 8,
   "metadata": {},
   "outputs": [
    {
     "data": {
      "text/plain": [
       "str"
      ]
     },
     "execution_count": 8,
     "metadata": {},
     "output_type": "execute_result"
    }
   ],
   "source": []
  },
  {
   "cell_type": "code",
   "execution_count": null,
   "metadata": {},
   "outputs": [],
   "source": []
  }
 ],
 "metadata": {
  "kernelspec": {
   "display_name": "Python 3",
   "language": "python",
   "name": "python3"
  },
  "language_info": {
   "codemirror_mode": {
    "name": "ipython",
    "version": 3
   },
   "file_extension": ".py",
   "mimetype": "text/x-python",
   "name": "python",
   "nbconvert_exporter": "python",
   "pygments_lexer": "ipython3",
   "version": "3.7.3"
  }
 },
 "nbformat": 4,
 "nbformat_minor": 2
}
