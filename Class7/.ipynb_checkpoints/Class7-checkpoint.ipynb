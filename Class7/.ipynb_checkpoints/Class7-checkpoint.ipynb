{
 "cells": [
  {
   "cell_type": "markdown",
   "metadata": {},
   "source": [
    "# Files"
   ]
  },
  {
   "cell_type": "markdown",
   "metadata": {},
   "source": [
    "## Read the whole file"
   ]
  },
  {
   "cell_type": "code",
   "execution_count": 1,
   "metadata": {},
   "outputs": [
    {
     "ename": "FileNotFoundError",
     "evalue": "[Errno 2] No such file or directory: 'Dracula.txt'",
     "output_type": "error",
     "traceback": [
      "\u001b[1;31m---------------------------------------------------------------------------\u001b[0m",
      "\u001b[1;31mFileNotFoundError\u001b[0m                         Traceback (most recent call last)",
      "\u001b[1;32m<ipython-input-1-2835d7224964>\u001b[0m in \u001b[0;36m<module>\u001b[1;34m\u001b[0m\n\u001b[1;32m----> 1\u001b[1;33m \u001b[0mfile\u001b[0m \u001b[1;33m=\u001b[0m \u001b[0mopen\u001b[0m\u001b[1;33m(\u001b[0m\u001b[1;34m'Dracula.txt'\u001b[0m\u001b[1;33m,\u001b[0m \u001b[1;34m'r'\u001b[0m\u001b[1;33m)\u001b[0m\u001b[1;33m\u001b[0m\u001b[1;33m\u001b[0m\u001b[0m\n\u001b[0m\u001b[0;32m      2\u001b[0m \u001b[0mprint\u001b[0m\u001b[1;33m(\u001b[0m\u001b[0mfile\u001b[0m\u001b[1;33m.\u001b[0m\u001b[0mread\u001b[0m\u001b[1;33m(\u001b[0m\u001b[1;33m)\u001b[0m\u001b[1;33m)\u001b[0m\u001b[1;33m\u001b[0m\u001b[1;33m\u001b[0m\u001b[0m\n\u001b[0;32m      3\u001b[0m \u001b[0mfile1\u001b[0m\u001b[1;33m.\u001b[0m\u001b[0mclose\u001b[0m\u001b[1;33m(\u001b[0m\u001b[1;33m)\u001b[0m\u001b[1;33m\u001b[0m\u001b[1;33m\u001b[0m\u001b[0m\n",
      "\u001b[1;31mFileNotFoundError\u001b[0m: [Errno 2] No such file or directory: 'Dracula.txt'"
     ]
    }
   ],
   "source": [
    "file = open('Dracula.txt', 'r')  \n",
    "print(file.read())\n",
    "file1.close()\n"
   ]
  },
  {
   "cell_type": "code",
   "execution_count": 2,
   "metadata": {},
   "outputs": [
    {
     "name": "stdout",
     "output_type": "stream",
     "text": [
      "Characters:  863297\n"
     ]
    }
   ],
   "source": [
    "file = open('Dracula.txt', 'r') \n",
    "book=file.read()\n",
    "print(\"Characters: \",len(book))"
   ]
  },
  {
   "cell_type": "markdown",
   "metadata": {},
   "source": [
    "## Read the some characters from a file: Read()"
   ]
  },
  {
   "cell_type": "code",
   "execution_count": 3,
   "metadata": {},
   "outputs": [
    {
     "name": "stdout",
     "output_type": "stream",
     "text": [
      "DRA\n"
     ]
    }
   ],
   "source": [
    "file = open('Dracula.txt', 'r')  \n",
    "print(file.read(3))\n",
    "file.close()\n"
   ]
  },
  {
   "cell_type": "markdown",
   "metadata": {},
   "source": [
    "## Read the some lines from a file: Readline()"
   ]
  },
  {
   "cell_type": "code",
   "execution_count": 4,
   "metadata": {
    "scrolled": true
   },
   "outputs": [
    {
     "name": "stdout",
     "output_type": "stream",
     "text": [
      "DRACULA by Bram Stoker\n",
      "\n",
      "\n",
      "\n",
      "CHAPTER I\n",
      "\n",
      "\n",
      "\n",
      "JONATHAN HARKER'S JOURNAL\n",
      "\n",
      "(_Kept in shorthand._)\n",
      "\n"
     ]
    }
   ],
   "source": [
    "file = open('Dracula.txt', 'r')  \n",
    "print(file.readline())\n",
    "print(file.readline())\n",
    "print(file.readline())\n",
    "print(file.readline())\n",
    "print(file.readline())\n",
    "print(file.readline())\n",
    "file.close()"
   ]
  },
  {
   "cell_type": "markdown",
   "metadata": {},
   "source": [
    "## Read the lines from a file using loops"
   ]
  },
  {
   "cell_type": "code",
   "execution_count": 5,
   "metadata": {
    "scrolled": false
   },
   "outputs": [
    {
     "name": "stdout",
     "output_type": "stream",
     "text": [
      "line number 1: DRACULA by Bram Stoker\n",
      "\n",
      "line number 2: \n",
      "\n",
      "line number 3: CHAPTER I\n",
      "\n",
      "line number 4: \n",
      "\n",
      "line number 5: JONATHAN HARKER'S JOURNAL\n",
      "\n",
      "line number 6: (_Kept in shorthand._)\n",
      "\n",
      "line number 7: _3 May. Bistritz._--Left Munich at 8:35 P. M., on 1st May, arriving at\n",
      "\n",
      "line number 8: Vienna early next morning; should have arrived at 6:46, but train was an\n",
      "\n",
      "line number 9: hour late. Buda-Pesth seems a wonderful place, from the glimpse which I\n",
      "\n"
     ]
    }
   ],
   "source": [
    "file = open('Dracula.txt', 'r')  \n",
    "count=1\n",
    "for line in file:\n",
    "    print (\"line number {}: {}\".format(count,line))\n",
    "    count+=1\n",
    "    if count==10: break\n",
    "file.close()"
   ]
  },
  {
   "cell_type": "code",
   "execution_count": 6,
   "metadata": {},
   "outputs": [
    {
     "name": "stdout",
     "output_type": "stream",
     "text": [
      "line 0 with length 23: DRACULA by Bram Stoker\n",
      "\n",
      "line 1 with length 1: \n",
      "\n",
      "line 2 with length 10: CHAPTER I\n",
      "\n",
      "line 3 with length 1: \n",
      "\n",
      "line 4 with length 26: JONATHAN HARKER'S JOURNAL\n",
      "\n",
      "line 5 with length 23: (_Kept in shorthand._)\n",
      "\n",
      "line 6 with length 71: _3 May. Bistritz._--Left Munich at 8:35 P. M., on 1st May, arriving at\n",
      "\n",
      "line 7 with length 73: Vienna early next morning; should have arrived at 6:46, but train was an\n",
      "\n",
      "line 8 with length 72: hour late. Buda-Pesth seems a wonderful place, from the glimpse which I\n",
      "\n",
      "line 9 with length 65: got of it from the train and the little I could walk through the\n",
      "\n"
     ]
    }
   ],
   "source": [
    "file = open('Dracula.txt', 'r')  \n",
    "\n",
    "for i in range(10):\n",
    "    line=file.readline()\n",
    "    print (\"line {} with length {}: {}\".format(i,len(line),line))\n",
    "    \n",
    "file.close()"
   ]
  },
  {
   "cell_type": "markdown",
   "metadata": {},
   "source": [
    "## readlines()  VS  read().splitlines()"
   ]
  },
  {
   "cell_type": "code",
   "execution_count": 7,
   "metadata": {},
   "outputs": [
    {
     "name": "stdout",
     "output_type": "stream",
     "text": [
      "type:  <class 'list'>\n",
      "['DRACULA by Bram Stoker\\n', '\\n', 'CHAPTER I\\n', '\\n', \"JONATHAN HARKER'S JOURNAL\\n\", '(_Kept in shorthand._)\\n', '_3 May. Bistritz._--Left Munich at 8:35 P. M., on 1st May, arriving at\\n', 'Vienna early next morning; should have arrived at 6:46, but train was an\\n', 'hour late. Buda-Pesth seems a wonderful place, from the glimpse which I\\n', 'got of it from the train and the little I could walk through the\\n']\n",
      "Number of lines:  15778\n"
     ]
    }
   ],
   "source": [
    "file = open('Dracula.txt', 'r') \n",
    "allLines=file.readlines()\n",
    "print(\"type: \",type(allLines))\n",
    "print(allLines[:10])\n",
    "print(\"Number of lines: \",len(allLines))\n",
    "file.close()"
   ]
  },
  {
   "cell_type": "code",
   "execution_count": 8,
   "metadata": {},
   "outputs": [
    {
     "name": "stdout",
     "output_type": "stream",
     "text": [
      "type:  <class 'list'>\n",
      "['DRACULA by Bram Stoker', '', 'CHAPTER I', '', \"JONATHAN HARKER'S JOURNAL\", '(_Kept in shorthand._)', '_3 May. Bistritz._--Left Munich at 8:35 P. M., on 1st May, arriving at', 'Vienna early next morning; should have arrived at 6:46, but train was an', 'hour late. Buda-Pesth seems a wonderful place, from the glimpse which I', 'got of it from the train and the little I could walk through the']\n",
      "Number of lines:  15778\n"
     ]
    }
   ],
   "source": [
    "file = open('Dracula.txt', 'r') \n",
    "allLines=file.read().splitlines()\n",
    "print(\"type: \",type(allLines))\n",
    "print(allLines[:10])\n",
    "print(\"Number of lines: \",len(allLines))\n",
    "file.close()"
   ]
  },
  {
   "cell_type": "markdown",
   "metadata": {},
   "source": [
    "## Using WITH ... AS (No need to close)"
   ]
  },
  {
   "cell_type": "code",
   "execution_count": 2,
   "metadata": {},
   "outputs": [
    {
     "ename": "FileNotFoundError",
     "evalue": "[Errno 2] No such file or directory: 'Dracula.txt'",
     "output_type": "error",
     "traceback": [
      "\u001b[1;31m---------------------------------------------------------------------------\u001b[0m",
      "\u001b[1;31mFileNotFoundError\u001b[0m                         Traceback (most recent call last)",
      "\u001b[1;32m<ipython-input-2-37849cf5b27f>\u001b[0m in \u001b[0;36m<module>\u001b[1;34m\u001b[0m\n\u001b[1;32m----> 1\u001b[1;33m \u001b[1;32mwith\u001b[0m \u001b[0mopen\u001b[0m\u001b[1;33m(\u001b[0m\u001b[1;34m'Dracula.txt'\u001b[0m\u001b[1;33m,\u001b[0m\u001b[1;34m'r'\u001b[0m\u001b[1;33m)\u001b[0m \u001b[1;32mas\u001b[0m \u001b[0mf1\u001b[0m\u001b[1;33m:\u001b[0m\u001b[1;33m\u001b[0m\u001b[1;33m\u001b[0m\u001b[0m\n\u001b[0m\u001b[0;32m      2\u001b[0m     \u001b[0mprint\u001b[0m\u001b[1;33m(\u001b[0m\u001b[0mf1\u001b[0m\u001b[1;33m.\u001b[0m\u001b[0mread\u001b[0m\u001b[1;33m(\u001b[0m\u001b[1;33m)\u001b[0m\u001b[1;33m)\u001b[0m\u001b[1;33m\u001b[0m\u001b[1;33m\u001b[0m\u001b[0m\n",
      "\u001b[1;31mFileNotFoundError\u001b[0m: [Errno 2] No such file or directory: 'Dracula.txt'"
     ]
    }
   ],
   "source": [
    "with open('Dracula.txt','r') as f1:\n",
    "    print(f1.read())"
   ]
  },
  {
   "cell_type": "markdown",
   "metadata": {},
   "source": [
    "## Write Files"
   ]
  },
  {
   "cell_type": "code",
   "execution_count": 10,
   "metadata": {},
   "outputs": [],
   "source": [
    "with open('cities.txt','w') as file:\n",
    "    file.write(\"Guadalajara\\nMadrid\\nSegovia\\nSoria\")"
   ]
  },
  {
   "cell_type": "code",
   "execution_count": 11,
   "metadata": {},
   "outputs": [
    {
     "name": "stdout",
     "output_type": "stream",
     "text": [
      "Guadalajara\n",
      "Madrid\n",
      "Segovia\n",
      "Soria\n"
     ]
    }
   ],
   "source": [
    "with open('cities.txt','r') as file:\n",
    "    print(file.read())"
   ]
  },
  {
   "cell_type": "markdown",
   "metadata": {},
   "source": [
    "## Append Text to Files"
   ]
  },
  {
   "cell_type": "markdown",
   "metadata": {},
   "source": [
    "#### Note that write expects a single string"
   ]
  },
  {
   "cell_type": "code",
   "execution_count": 12,
   "metadata": {},
   "outputs": [],
   "source": [
    "with open('cities.txt','a') as file:\n",
    "    file.write(\"\\nSevilla\")"
   ]
  },
  {
   "cell_type": "code",
   "execution_count": 13,
   "metadata": {},
   "outputs": [
    {
     "name": "stdout",
     "output_type": "stream",
     "text": [
      "Guadalajara\n",
      "Madrid\n",
      "Segovia\n",
      "Soria\n",
      "Sevilla\n"
     ]
    }
   ],
   "source": [
    "with open('cities.txt','r') as file:\n",
    "    print(file.read())"
   ]
  },
  {
   "cell_type": "markdown",
   "metadata": {},
   "source": [
    "## Append List to Files"
   ]
  },
  {
   "cell_type": "markdown",
   "metadata": {},
   "source": [
    "#### Note that writelines expects an interable of strings"
   ]
  },
  {
   "cell_type": "code",
   "execution_count": 14,
   "metadata": {},
   "outputs": [],
   "source": [
    "lista=[\"Santander\",\"Madrid\",\"Toledo\",\"Soria\"]\n",
    "with open('cities2.txt','w') as file:\n",
    "      file.writelines(lista)    "
   ]
  },
  {
   "cell_type": "code",
   "execution_count": 15,
   "metadata": {},
   "outputs": [
    {
     "name": "stdout",
     "output_type": "stream",
     "text": [
      "SantanderMadridToledoSoria\n"
     ]
    }
   ],
   "source": [
    "with open('cities2.txt','r') as file:\n",
    "    print(file.read())"
   ]
  },
  {
   "cell_type": "markdown",
   "metadata": {},
   "source": [
    "#### If you want to preserve the elements as lines"
   ]
  },
  {
   "cell_type": "code",
   "execution_count": 16,
   "metadata": {},
   "outputs": [],
   "source": [
    "lista=[\"Santander\",\"Madrid\",\"Toledo\",\"Soria\"]\n",
    "with open('cities2.txt','w') as file:\n",
    "      file.write(\"\\n\".join(lista)) "
   ]
  },
  {
   "cell_type": "code",
   "execution_count": 17,
   "metadata": {},
   "outputs": [
    {
     "name": "stdout",
     "output_type": "stream",
     "text": [
      "Santander\n",
      "Madrid\n",
      "Toledo\n",
      "Soria\n"
     ]
    }
   ],
   "source": [
    "with open('cities2.txt','r') as file:\n",
    "    print(file.read())"
   ]
  },
  {
   "cell_type": "markdown",
   "metadata": {},
   "source": [
    "## Work with the position"
   ]
  },
  {
   "cell_type": "markdown",
   "metadata": {},
   "source": [
    "#### Get the current position with tell()"
   ]
  },
  {
   "cell_type": "code",
   "execution_count": 18,
   "metadata": {},
   "outputs": [
    {
     "name": "stdout",
     "output_type": "stream",
     "text": [
      "First 9 characters:  Guadalaja\n",
      "Cursor position:  9\n",
      "Read next 13 characters:  ra\n",
      "Madrid\n",
      "Seg\n",
      "Cursor position:  24\n"
     ]
    }
   ],
   "source": [
    "with open('cities.txt','r') as file:\n",
    "    print(\"First 9 characters: \",file.read(9))\n",
    "    print(\"Cursor position: \",file.tell())\n",
    "    print(\"Read next 13 characters: \",file.read(13))\n",
    "    print(\"Cursor position: \",file.tell())"
   ]
  },
  {
   "cell_type": "markdown",
   "metadata": {},
   "source": [
    "#### Change the current position with seek()"
   ]
  },
  {
   "cell_type": "code",
   "execution_count": 19,
   "metadata": {},
   "outputs": [
    {
     "name": "stdout",
     "output_type": "stream",
     "text": [
      "First 9 characters:  Guadalaja\n",
      "Cursor position:  9\n",
      "Cursor position after updating:  0\n",
      "First 15 characters:  Guadalajara\n",
      "Mad\n",
      "Cursor position:  16\n",
      "Cursor position after updating:  24\n",
      "ovia\n",
      "Soria\n",
      "Sevilla\n"
     ]
    }
   ],
   "source": [
    "with open('cities.txt','r') as file:\n",
    "    print(\"First 9 characters: \",file.read(9))\n",
    "    print(\"Cursor position: \",file.tell())\n",
    "    file.seek(0)\n",
    "    print(\"Cursor position after updating: \",file.tell())\n",
    "    print(\"First 15 characters: \",file.read(15))\n",
    "    print(\"Cursor position: \",file.tell())\n",
    "    file.seek(24)\n",
    "    print(\"Cursor position after updating: \",file.tell())\n",
    "    print(file.read(18))"
   ]
  },
  {
   "cell_type": "markdown",
   "metadata": {},
   "source": [
    "## Export to binary file. Serialize using pickle"
   ]
  },
  {
   "cell_type": "code",
   "execution_count": 20,
   "metadata": {},
   "outputs": [
    {
     "name": "stdout",
     "output_type": "stream",
     "text": [
      "<class 'list'>\n",
      "['Elemento1', 'Elemento2', ('Elemento3', 3), {'Elemento4': 4, 'Elemento5': 5}]\n"
     ]
    }
   ],
   "source": [
    "lista=[\"Elemento1\",\"Elemento2\",(\"Elemento3\",3),{\"Elemento4\":4, \"Elemento5\":5}]\n",
    "print(type(lista))\n",
    "print(lista)"
   ]
  },
  {
   "cell_type": "markdown",
   "metadata": {},
   "source": [
    "If I want to save this object and get back to it later, we have issues saving it to a text file and get a TypeError exception"
   ]
  },
  {
   "cell_type": "code",
   "execution_count": 21,
   "metadata": {},
   "outputs": [
    {
     "ename": "TypeError",
     "evalue": "sequence item 2: expected str instance, tuple found",
     "output_type": "error",
     "traceback": [
      "\u001b[1;31m---------------------------------------------------------------------------\u001b[0m",
      "\u001b[1;31mTypeError\u001b[0m                                 Traceback (most recent call last)",
      "\u001b[1;32m<ipython-input-21-e70edfc86fad>\u001b[0m in \u001b[0;36m<module>\u001b[1;34m\u001b[0m\n\u001b[0;32m      1\u001b[0m \u001b[1;32mwith\u001b[0m \u001b[0mopen\u001b[0m\u001b[1;33m(\u001b[0m\u001b[1;34m'export.txt'\u001b[0m\u001b[1;33m,\u001b[0m\u001b[1;34m'w'\u001b[0m\u001b[1;33m)\u001b[0m \u001b[1;32mas\u001b[0m \u001b[0mfile\u001b[0m\u001b[1;33m:\u001b[0m\u001b[1;33m\u001b[0m\u001b[1;33m\u001b[0m\u001b[0m\n\u001b[1;32m----> 2\u001b[1;33m       \u001b[0mfile\u001b[0m\u001b[1;33m.\u001b[0m\u001b[0mwrite\u001b[0m\u001b[1;33m(\u001b[0m\u001b[1;34m\"\\n\"\u001b[0m\u001b[1;33m.\u001b[0m\u001b[0mjoin\u001b[0m\u001b[1;33m(\u001b[0m\u001b[0mlista\u001b[0m\u001b[1;33m)\u001b[0m\u001b[1;33m)\u001b[0m\u001b[1;33m\u001b[0m\u001b[1;33m\u001b[0m\u001b[0m\n\u001b[0m",
      "\u001b[1;31mTypeError\u001b[0m: sequence item 2: expected str instance, tuple found"
     ]
    }
   ],
   "source": [
    "with open('export.txt','w') as file:\n",
    "      file.write(\"\\n\".join(lista)) "
   ]
  },
  {
   "cell_type": "markdown",
   "metadata": {},
   "source": [
    "I can try to convert to text all the object"
   ]
  },
  {
   "cell_type": "code",
   "execution_count": 22,
   "metadata": {},
   "outputs": [],
   "source": [
    "with open('export.txt','w') as file:\n",
    "      file.write(str(lista)) "
   ]
  },
  {
   "cell_type": "code",
   "execution_count": 23,
   "metadata": {},
   "outputs": [
    {
     "name": "stdout",
     "output_type": "stream",
     "text": [
      "<class 'str'>\n",
      "['Elemento1', 'Elemento2', ('Elemento3', 3), {'Elemento4': 4, 'Elemento5': 5}]\n"
     ]
    }
   ],
   "source": [
    "with open('export.txt','r') as file:\n",
    "    lista_restored=file.read()\n",
    "print(type(lista_restored))\n",
    "print(lista_restored)"
   ]
  },
  {
   "cell_type": "markdown",
   "metadata": {},
   "source": [
    "I'm recovering a string, not the original object.\n",
    "But I can do it if I serialize it using pickle"
   ]
  },
  {
   "cell_type": "code",
   "execution_count": 24,
   "metadata": {},
   "outputs": [],
   "source": [
    "import pickle\n",
    "with open(\"binary.dat\",\"wb\") as file:\n",
    "    pickle.dump(lista,file)"
   ]
  },
  {
   "cell_type": "markdown",
   "metadata": {},
   "source": [
    "Have a look to the file created to find out what binary means"
   ]
  },
  {
   "cell_type": "code",
   "execution_count": 25,
   "metadata": {},
   "outputs": [],
   "source": [
    "with open(\"binary.dat\",\"rb\") as file:\n",
    "    lista_restored=pickle.load(file)"
   ]
  },
  {
   "cell_type": "code",
   "execution_count": 26,
   "metadata": {},
   "outputs": [
    {
     "name": "stdout",
     "output_type": "stream",
     "text": [
      "<class 'list'>\n",
      "['Elemento1', 'Elemento2', ('Elemento3', 3), {'Elemento4': 4, 'Elemento5': 5}]\n"
     ]
    }
   ],
   "source": [
    "print(type(lista_restored))\n",
    "print(lista_restored)"
   ]
  },
  {
   "cell_type": "markdown",
   "metadata": {},
   "source": [
    "## We can export several objects on the same file if needed"
   ]
  },
  {
   "cell_type": "code",
   "execution_count": 27,
   "metadata": {},
   "outputs": [],
   "source": [
    "import pickle\n",
    "file=open(\"export2.dat\", \"wb\")\n",
    "entero=2\n",
    "real=4.7\n",
    "cadena=\"Buenos dias\"\n",
    "lista=[\"Madrid\", \"Cordoba\"]\n",
    "tupla=(2, 3)\n",
    "diccionario={\"Algebra\":7.3, \"Calculo\":7.8, \"C\":9.5}\n",
    "pickle.dump(entero,file)\n",
    "pickle.dump(real,file)    \n",
    "pickle.dump(cadena,file)\n",
    "pickle.dump(lista,file)\n",
    "pickle.dump(tupla,file)\n",
    "pickle.dump(diccionario,file) \n",
    "file.close()\n"
   ]
  },
  {
   "cell_type": "markdown",
   "metadata": {},
   "source": [
    "Open file export2.dat and review its contents"
   ]
  },
  {
   "cell_type": "code",
   "execution_count": 28,
   "metadata": {},
   "outputs": [
    {
     "name": "stdout",
     "output_type": "stream",
     "text": [
      "Load an object at a time:\n",
      "Object 0: 2\n",
      "Object 1: 4.7\n",
      "Object 2: Buenos dias\n",
      "Object 3: ['Madrid', 'Cordoba']\n",
      "Object 4: (2, 3)\n",
      "Object 5: {'Algebra': 7.3, 'Calculo': 7.8, 'C': 9.5}\n"
     ]
    }
   ],
   "source": [
    "print(\"Load an object at a time:\")\n",
    "file=open(\"export2.dat\", \"rb\")\n",
    "for i in range(6):\n",
    "    datos= pickle.load(file)\n",
    "    print(\"Object {}: {}\".format(i,datos))"
   ]
  },
  {
   "cell_type": "markdown",
   "metadata": {},
   "source": [
    "Note that we did not close the file. To start reading again from scratch, move cursor to zero"
   ]
  },
  {
   "cell_type": "code",
   "execution_count": 29,
   "metadata": {},
   "outputs": [
    {
     "name": "stdout",
     "output_type": "stream",
     "text": [
      "Append all objects into a list:\n",
      "Data restored:\n",
      "[2, 4.7, 'Buenos dias', ['Madrid', 'Cordoba'], (2, 3), {'Algebra': 7.3, 'Calculo': 7.8, 'C': 9.5}]\n"
     ]
    }
   ],
   "source": [
    "print(\"Append all objects into a list:\")\n",
    "file.seek(0)\n",
    "datos=[]\n",
    "for i in range(6):\n",
    "     datos.append(pickle.load(file))\n",
    "\n",
    "print(\"Data restored:\")\n",
    "print(datos)\n",
    "file.close()"
   ]
  },
  {
   "cell_type": "markdown",
   "metadata": {},
   "source": [
    "## Guided Lab: Count the frequency of every single letter in an english book"
   ]
  },
  {
   "cell_type": "code",
   "execution_count": 30,
   "metadata": {},
   "outputs": [],
   "source": [
    "with open('Dracula.txt','r') as f1:\n",
    "    text=f1.read()\n",
    "    length=len(text)\n",
    "    letterCounts={}\n",
    "    for letter in text.lower():\n",
    "        letterCounts[letter] = letterCounts.get (letter, 0) + 1"
   ]
  },
  {
   "cell_type": "code",
   "execution_count": 31,
   "metadata": {},
   "outputs": [],
   "source": [
    "letterCountsClean={}\n",
    "for letter,frequency in letterCounts.items():\n",
    "    if letter.isalpha()==True:\n",
    "        letterCountsClean[letter]=frequency"
   ]
  },
  {
   "cell_type": "code",
   "execution_count": 32,
   "metadata": {},
   "outputs": [
    {
     "data": {
      "text/plain": [
       "{'d': 29203,\n",
       " 'r': 36361,\n",
       " 'a': 53642,\n",
       " 'c': 14176,\n",
       " 'u': 18591,\n",
       " 'l': 26806,\n",
       " 'b': 9311,\n",
       " 'y': 13112,\n",
       " 'm': 18231,\n",
       " 's': 40529,\n",
       " 't': 60023,\n",
       " 'o': 51941,\n",
       " 'k': 6360,\n",
       " 'e': 81574,\n",
       " 'h': 44009,\n",
       " 'p': 9685,\n",
       " 'i': 44018,\n",
       " 'j': 902,\n",
       " 'n': 44857,\n",
       " 'z': 285,\n",
       " 'f': 14464,\n",
       " 'v': 6046,\n",
       " 'g': 13162,\n",
       " 'x': 844,\n",
       " 'w': 18440,\n",
       " 'q': 640,\n",
       " 'ã': 41,\n",
       " 'â': 3}"
      ]
     },
     "execution_count": 32,
     "metadata": {},
     "output_type": "execute_result"
    }
   ],
   "source": [
    "letterCountsClean"
   ]
  },
  {
   "cell_type": "code",
   "execution_count": 33,
   "metadata": {},
   "outputs": [
    {
     "name": "stdout",
     "output_type": "stream",
     "text": [
      "[('a', 53642), ('b', 9311), ('c', 14176), ('d', 29203), ('e', 81574), ('f', 14464), ('g', 13162), ('h', 44009), ('i', 44018), ('j', 902), ('k', 6360), ('l', 26806), ('m', 18231), ('n', 44857), ('o', 51941), ('p', 9685), ('q', 640), ('r', 36361), ('s', 40529), ('t', 60023), ('u', 18591), ('v', 6046), ('w', 18440), ('x', 844), ('y', 13112), ('z', 285), ('â', 3), ('ã', 41)]\n"
     ]
    }
   ],
   "source": [
    "import matplotlib.pyplot as plt\n",
    "\n",
    "sorted_letterCountsClean = sorted(letterCountsClean.items(), key=lambda item: item[0])\n",
    "print(sorted_letterCountsClean)\n"
   ]
  },
  {
   "cell_type": "code",
   "execution_count": 34,
   "metadata": {},
   "outputs": [],
   "source": [
    "x=[i[0] for i in sorted_letterCountsClean]\n",
    "y=[i[1] for i in sorted_letterCountsClean]"
   ]
  },
  {
   "cell_type": "code",
   "execution_count": 35,
   "metadata": {},
   "outputs": [
    {
     "data": {
      "text/plain": [
       "Text(0.5, 1.0, 'Number of appearing letters')"
      ]
     },
     "execution_count": 35,
     "metadata": {},
     "output_type": "execute_result"
    },
    {
     "data": {
      "image/png": "[encoded data removed]",
      "text/plain": [
       "<Figure size 432x288 with 1 Axes>"
      ]
     },
     "metadata": {
      "needs_background": "light"
     },
     "output_type": "display_data"
    }
   ],
   "source": [
    "plt.bar(x,y)\n",
    "plt.title(\"Number of appearing letters\")"
   ]
  },
  {
   "cell_type": "code",
   "execution_count": 36,
   "metadata": {},
   "outputs": [
    {
     "data": {
      "text/plain": [
       "Text(0.5, 1.0, 'Percentage of appearing letters')"
      ]
     },
     "execution_count": 36,
     "metadata": {},
     "output_type": "execute_result"
    },
    {
     "data": {
      "image/png": "[encoded data removed]",
      "text/plain": [
       "<Figure size 432x288 with 1 Axes>"
      ]
     },
     "metadata": {
      "needs_background": "light"
     },
     "output_type": "display_data"
    }
   ],
   "source": [
    "import numpy as np\n",
    "plt.bar(x,np.array(y)*100/length)\n",
    "plt.title(\"Percentage of appearing letters\")"
   ]
  },
  {
   "cell_type": "markdown",
   "metadata": {},
   "source": [
    "## Proposed Lab:\n",
    "\n",
    "* Could we get a percentage of appearence that defines every single language??\n",
    "* Could we use those distributions to discover the lenguage of a coded text??\n",
    "* Could we expand this idea to classify word frequence of appearence??"
   ]
  },
  {
   "cell_type": "code",
   "execution_count": null,
   "metadata": {
    "collapsed": true
   },
   "outputs": [],
   "source": []
  }
 ],
 "metadata": {
  "kernelspec": {
   "display_name": "Python 3",
   "language": "python",
   "name": "python3"
  },
  "language_info": {
   "codemirror_mode": {
    "name": "ipython",
    "version": 3
   },
   "file_extension": ".py",
   "mimetype": "text/x-python",
   "name": "python",
   "nbconvert_exporter": "python",
   "pygments_lexer": "ipython3",
   "version": "3.7.3"
  }
 },
 "nbformat": 4,
 "nbformat_minor": 2
}
