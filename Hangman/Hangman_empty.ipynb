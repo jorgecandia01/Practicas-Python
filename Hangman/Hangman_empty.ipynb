{
 "cells": [
  {
   "cell_type": "markdown",
   "metadata": {},
   "source": [
    "# Hangman"
   ]
  },
  {
   "cell_type": "markdown",
   "metadata": {},
   "source": [
    "## Read file with spanish words and remove accents\n",
    "You need to install the package unidecode from the Anaconda console:\n",
    "\n",
    "*conda install unidecode*"
   ]
  },
  {
   "cell_type": "code",
   "execution_count": 1,
   "metadata": {},
   "outputs": [],
   "source": [
    "import unidecode\n",
    "import random"
   ]
  },
  {
   "cell_type": "code",
   "execution_count": 2,
   "metadata": {},
   "outputs": [],
   "source": [
    "with open('spanish_words.txt','r',encoding=\"utf8\") as f:\n",
    "    file=unidecode.unidecode(f.read())"
   ]
  },
  {
   "cell_type": "code",
   "execution_count": 3,
   "metadata": {
    "scrolled": true
   },
   "outputs": [],
   "source": [
    "lista=file.splitlines()"
   ]
  },
  {
   "cell_type": "code",
   "execution_count": 4,
   "metadata": {},
   "outputs": [],
   "source": [
    "count=0\n",
    "for i in lista:\n",
    "    lista[count]=i.lower()\n",
    "    count=count+1"
   ]
  },
  {
   "cell_type": "markdown",
   "metadata": {},
   "source": [
    "## Ask user for the lenght of the word to guess and get a random word of that length"
   ]
  },
  {
   "cell_type": "code",
   "execution_count": 5,
   "metadata": {},
   "outputs": [],
   "source": [
    "def asking():\n",
    "    count=0\n",
    "    lmayor=''\n",
    "    for i in lista:\n",
    "        if len(i)<len(lmayor):\n",
    "            pass\n",
    "        else:\n",
    "            lmayor=i\n",
    "    \n",
    "    lmayor=len(lmayor)\n",
    "    \n",
    "    \n",
    "    while True:\n",
    "        try:\n",
    "            wordlength=int(input('Choose the length of your word (an interger between {} and {}): '.format(2,lmayor)))\n",
    "            if wordlength<2 or wordlength>23:\n",
    "                print('You cant choose that.')\n",
    "            else:\n",
    "                break\n",
    "        except:\n",
    "            print('You cant choose that.')\n",
    "        \n",
    "        \n",
    "    while True:\n",
    "        word=lista[random.randint(0,len(lista))]\n",
    "        if len(word)==wordlength:\n",
    "            break\n",
    "            \n",
    "    return word"
   ]
  },
  {
   "cell_type": "markdown",
   "metadata": {},
   "source": [
    "## Implement a method that prints the secret panel with the selected letters"
   ]
  },
  {
   "cell_type": "code",
   "execution_count": 22,
   "metadata": {},
   "outputs": [],
   "source": [
    "letters=[]\n",
    "def printpanel():\n",
    "    panel=''\n",
    "    for letra in word:\n",
    "        if letra in letters:\n",
    "            panel=panel+letra\n",
    "        else:\n",
    "            panel=panel+'_'\n",
    "    print('\\nThis is the playing panel right now:\\n')\n",
    "    print(panel)\n"
   ]
  },
  {
   "cell_type": "markdown",
   "metadata": {},
   "source": [
    "## Implement a method that finds out if the word has been guessed"
   ]
  },
  {
   "cell_type": "code",
   "execution_count": 61,
   "metadata": {},
   "outputs": [],
   "source": [
    "def isdone():\n",
    "    count=0\n",
    "    for letra in word:\n",
    "        if letra in letters:\n",
    "            count+=1\n",
    "            if count==len(word):\n",
    "                print('\\n\\n\\n---------------------------------------------')\n",
    "                print('XXXXXXXXXXXXXXXXXXXXXXXXXXXXXXXXXXXXXXXXXXXXX')\n",
    "                print('---------------------------------------------')\n",
    "                print(\"\"\"Congratulations! You have won! the word is '{}'.\"\"\".format(word))\n",
    "                print('---------------------------------------------')\n",
    "                print('XXXXXXXXXXXXXXXXXXXXXXXXXXXXXXXXXXXXXXXXXXXXX')\n",
    "                print('---------------------------------------------')\n",
    "                return False\n",
    "            pass\n",
    "            \n",
    "        \n",
    "        else:\n",
    "            print('You havent won yet, keep guessing!\\n')\n",
    "            print('-------------------------------------')\n",
    "            print('XXXXXXXXXXXXXXXXXXXXXXXXXXXXXXXXXXXXX')\n",
    "            print('-------------------------------------')\n",
    "            printpanel()\n",
    "            \n",
    "            break\n",
    "    return True\n",
    "            \n",
    "    "
   ]
  },
  {
   "cell_type": "markdown",
   "metadata": {},
   "source": [
    "## Implement the game with 6 errors maximum"
   ]
  },
  {
   "cell_type": "code",
   "execution_count": 19,
   "metadata": {},
   "outputs": [],
   "source": [
    "def onetry():\n",
    "    print('\\nYou have {} tries left'.format(i))\n",
    "    l=input('Choose a letter: ')\n",
    "    return l"
   ]
  },
  {
   "cell_type": "code",
   "execution_count": 64,
   "metadata": {},
   "outputs": [
    {
     "name": "stdout",
     "output_type": "stream",
     "text": [
      "Choose the length of your word (an interger between 2 and 23): 3\n",
      "cor\n",
      "\n",
      "This is the playing panel right now:\n",
      "\n",
      "___\n",
      "\n",
      "You have 6 tries left\n",
      "Choose a letter: r\n",
      "You havent won yet, keep guessing!\n",
      "\n",
      "-------------------------------------\n",
      "XXXXXXXXXXXXXXXXXXXXXXXXXXXXXXXXXXXXX\n",
      "-------------------------------------\n",
      "\n",
      "This is the playing panel right now:\n",
      "\n",
      "__r\n",
      "\n",
      "You have 5 tries left\n",
      "Choose a letter: r\n",
      "You havent won yet, keep guessing!\n",
      "\n",
      "-------------------------------------\n",
      "XXXXXXXXXXXXXXXXXXXXXXXXXXXXXXXXXXXXX\n",
      "-------------------------------------\n",
      "\n",
      "This is the playing panel right now:\n",
      "\n",
      "__r\n",
      "\n",
      "You have 4 tries left\n",
      "Choose a letter: r\n",
      "You havent won yet, keep guessing!\n",
      "\n",
      "-------------------------------------\n",
      "XXXXXXXXXXXXXXXXXXXXXXXXXXXXXXXXXXXXX\n",
      "-------------------------------------\n",
      "\n",
      "This is the playing panel right now:\n",
      "\n",
      "__r\n",
      "\n",
      "You have 3 tries left\n",
      "Choose a letter: r\n",
      "You havent won yet, keep guessing!\n",
      "\n",
      "-------------------------------------\n",
      "XXXXXXXXXXXXXXXXXXXXXXXXXXXXXXXXXXXXX\n",
      "-------------------------------------\n",
      "\n",
      "This is the playing panel right now:\n",
      "\n",
      "__r\n",
      "\n",
      "You have 2 tries left\n",
      "Choose a letter: r\n",
      "You havent won yet, keep guessing!\n",
      "\n",
      "-------------------------------------\n",
      "XXXXXXXXXXXXXXXXXXXXXXXXXXXXXXXXXXXXX\n",
      "-------------------------------------\n",
      "\n",
      "This is the playing panel right now:\n",
      "\n",
      "__r\n",
      "\n",
      "You have 1 tries left\n",
      "Choose a letter: r\n",
      "You havent won yet, keep guessing!\n",
      "\n",
      "-------------------------------------\n",
      "XXXXXXXXXXXXXXXXXXXXXXXXXXXXXXXXXXXXX\n",
      "-------------------------------------\n",
      "\n",
      "This is the playing panel right now:\n",
      "\n",
      "__r\n"
     ]
    }
   ],
   "source": [
    "word=asking()\n",
    "print(word)\n",
    "letters=[]\n",
    "printpanel()\n",
    "a=True\n",
    "i=6\n",
    "while a:\n",
    "    letters.append(onetry())\n",
    "    a=isdone()\n",
    "    i-=1\n",
    "    if i==0: \n",
    "        a=False"
   ]
  },
  {
   "cell_type": "code",
   "execution_count": null,
   "metadata": {},
   "outputs": [],
   "source": []
  }
 ],
 "metadata": {
  "kernelspec": {
   "display_name": "Python 3",
   "language": "python",
   "name": "python3"
  },
  "language_info": {
   "codemirror_mode": {
    "name": "ipython",
    "version": 3
   },
   "file_extension": ".py",
   "mimetype": "text/x-python",
   "name": "python",
   "nbconvert_exporter": "python",
   "pygments_lexer": "ipython3",
   "version": "3.7.3"
  }
 },
 "nbformat": 4,
 "nbformat_minor": 2
}
