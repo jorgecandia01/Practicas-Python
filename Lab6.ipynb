{
 "cells": [
  {
   "cell_type": "markdown",
   "metadata": {},
   "source": [
    "# Lab 6.2. Drawing a game in a Tic Tac Toe board"
   ]
  },
  {
   "cell_type": "code",
   "execution_count": 2,
   "metadata": {},
   "outputs": [
    {
     "name": "stdout",
     "output_type": "stream",
     "text": [
      "\n",
      " ---   ---   ---  \n",
      "| X  |  X  |     |  \n",
      " ---   ---   ---  \n",
      "| O  |  X  |     |  \n",
      " ---   ---   ---  \n",
      "| O  |  X  |  X  |  \n",
      " ---   ---   ---  \n"
     ]
    }
   ],
   "source": [
    "def drawboard(game):\n",
    "    for linea in game:\n",
    "        print()\n",
    "        print(\" ---  \" * 3)\n",
    "        print(\"| \",end=(\"\"))\n",
    "        for columna in linea:\n",
    "            if columna==\"\":\n",
    "                columna=\" \"\n",
    "            print (columna,\" | \",end=\" \")\n",
    "    print()\n",
    "    print(\" ---  \" * 3)\n",
    "\n",
    "\n",
    "game = [[\"X\", \"X\", \"\"], [\"O\", \"X\", \"\"], [\"O\", \"X\", \"X\"]]\n",
    "dgame=drawboard(game)"
   ]
  },
  {
   "cell_type": "markdown",
   "metadata": {},
   "source": [
    "# Lab 6.3. Checking Tic Tac Toe winner"
   ]
  },
  {
   "cell_type": "code",
   "execution_count": 3,
   "metadata": {},
   "outputs": [],
   "source": [
    "\n",
    "def gameWinner(game):\n",
    "    drawboard(game)\n",
    "    X=[]\n",
    "    O=[]\n",
    "    gameT=list(zip(*game))\n",
    "    for i in range(3):\n",
    "        if \"X\" in game[i] and \"\" not in game[i] and \"O\" not in game[i]:\n",
    "            X.append(True)\n",
    "        else:\n",
    "            X.append(False)\n",
    "\n",
    "    for i in range(3):\n",
    "        if \"O\" in game[i] and \"X\" not in game[i] and \"\" not in game[i]:\n",
    "            O.append(True)\n",
    "        else:\n",
    "            O.append(False)\n",
    "\n",
    "\n",
    "\n",
    "    for i in range(3):\n",
    "        if \"X\" in gameT[i] and \"O\" not in gameT[i] and \"\" not in gameT[i]:\n",
    "            X.append(True)\n",
    "        else:\n",
    "            X.append(False)\n",
    "\n",
    "    for i in range(3):\n",
    "        if \"O\" in gameT[i] and \"X\" not in gameT[i] and \"\" not in gameT[i]:\n",
    "            O.append(True)\n",
    "        else:\n",
    "            O.append(False)\n",
    "\n",
    "    import numpy as np\n",
    "    diag=np.diag(game)\n",
    "    gameF=np.fliplr(game)\n",
    "    diagF=np.diag(gameF)\n",
    "\n",
    "\n",
    "\n",
    "    if \"O\" in diag and \"X\" not in diag and \"\" not in diag:\n",
    "        O.append(True)\n",
    "    else:\n",
    "        O.append(False)\n",
    "\n",
    "\n",
    "    if \"O\" in diagF and \"X\" not in diagF and \"\" not in diagF:\n",
    "        O.append(True)\n",
    "    else:\n",
    "        O.append(False)\n",
    "\n",
    "\n",
    "    if \"X\" in diag and \"O\" not in diag and \"\" not in diag:\n",
    "        X.append(True)\n",
    "    else:\n",
    "        X.append(False)\n",
    "\n",
    "\n",
    "    if \"X\" in diagF and \"O\" not in diagF and \"\" not in diagF:\n",
    "        X.append(True)\n",
    "    else:\n",
    "        X.append(False)\n",
    "        \n",
    "    print()\n",
    "    print()\n",
    "    print()\n",
    "\n",
    "    if True in O:\n",
    "        print(\"Team O wins!\")\n",
    "        winner=\"O\"\n",
    "        print(game)\n",
    "    elif True in X:\n",
    "        print(\"Team X wins!\")\n",
    "        winner=\"X\"\n",
    "    else:\n",
    "        print(\"There is no winner!\")\n",
    "        winner=\"\"\n",
    "    return winner\n",
    "        \n",
    "\n"
   ]
  },
  {
   "cell_type": "code",
   "execution_count": 4,
   "metadata": {},
   "outputs": [
    {
     "name": "stdout",
     "output_type": "stream",
     "text": [
      "\n",
      " ---   ---   ---  \n",
      "|    |  O  |     |  \n",
      " ---   ---   ---  \n",
      "| O  |  X  |     |  \n",
      " ---   ---   ---  \n",
      "| O  |  X  |  X  |  \n",
      " ---   ---   ---  \n",
      "\n",
      "\n",
      "\n",
      "There is no winner!\n",
      " asd\n"
     ]
    }
   ],
   "source": [
    "game = [[\"\", \"O\", \"\"], [\"O\", \"X\", \"\"], [\"O\", \"X\", \"X\"]]\n",
    "\n",
    "a=gameWinner(game)\n",
    "\n",
    "print(a,\"asd\")"
   ]
  },
  {
   "cell_type": "markdown",
   "metadata": {},
   "source": [
    "# Lab 6.4. Draw and check"
   ]
  },
  {
   "cell_type": "code",
   "execution_count": 5,
   "metadata": {},
   "outputs": [
    {
     "name": "stdout",
     "output_type": "stream",
     "text": [
      "\n",
      " ---   ---   ---  \n",
      "|    |     |     |  \n",
      " ---   ---   ---  \n",
      "|    |     |     |  \n",
      " ---   ---   ---  \n",
      "|    |     |     |  \n",
      " ---   ---   ---  \n",
      "\n",
      "[False, False, False, False, False, False, False, False]\n",
      "[False, False, False, False, False, False, False, False]\n",
      "\n",
      "there is no winner\n"
     ]
    },
    {
     "data": {
      "text/plain": [
       "'asdasd'"
      ]
     },
     "execution_count": 5,
     "metadata": {},
     "output_type": "execute_result"
    }
   ],
   "source": [
    "def drawboard(game):\n",
    "    for linea in game:\n",
    "        print()\n",
    "        print(\" ---  \" * 3)\n",
    "        print(\"| \",end=(\"\"))\n",
    "        for columna in linea:\n",
    "            if columna==\"\":\n",
    "                columna=\" \"\n",
    "            print (columna,\" | \",end=\" \")\n",
    "    print()\n",
    "    print(\" ---  \" * 3)\n",
    "    return \"\"\n",
    "\n",
    "def gameWinner(game):\n",
    "    X=[]\n",
    "    O=[]\n",
    "    gameT=list(zip(*game))\n",
    "    for i in range(3):\n",
    "        if \"X\" in game[i] and \"\" not in game[i] and \"O\" not in game[i]:\n",
    "            X.append(True)\n",
    "        else:\n",
    "            X.append(False)\n",
    "\n",
    "    for i in range(3):\n",
    "        if \"O\" in game[i] and \"X\" not in game[i] and \"\" not in game[i]:\n",
    "            O.append(True)\n",
    "        else:\n",
    "            O.append(False)\n",
    "\n",
    "\n",
    "\n",
    "    for i in range(3):\n",
    "        if \"X\" in gameT[i] and \"O\" not in gameT[i] and \"\" not in gameT[i]:\n",
    "            X.append(True)\n",
    "        else:\n",
    "            X.append(False)\n",
    "\n",
    "    for i in range(3):\n",
    "        if \"O\" in gameT[i] and \"X\" not in gameT[i] and \"\" not in gameT[i]:\n",
    "            O.append(True)\n",
    "        else:\n",
    "            O.append(False)\n",
    "\n",
    "    import numpy as np\n",
    "    diag=np.diag(game)\n",
    "    gameF=np.fliplr(game)\n",
    "    diagF=np.diag(gameF)\n",
    "\n",
    "\n",
    "\n",
    "    if \"O\" in diag and \"X\" not in diag and \"\" not in diag:\n",
    "        O.append(True)\n",
    "    else:\n",
    "        O.append(False)\n",
    "\n",
    "\n",
    "    if \"O\" in diagF and \"X\" not in diagF and \"\" not in diagF:\n",
    "        O.append(True)\n",
    "    else:\n",
    "        O.append(False)\n",
    "\n",
    "\n",
    "    if \"X\" in diag and \"O\" not in diag and \"\" not in diag:\n",
    "        X.append(True)\n",
    "    else:\n",
    "        X.append(False)\n",
    "\n",
    "\n",
    "    if \"X\" in diagF and \"O\" not in diagF and \"\" not in diagF:\n",
    "        X.append(True)\n",
    "    else:\n",
    "        X.append(False)\n",
    "        \n",
    "    print(X)\n",
    "    print(O)\n",
    "    print()\n",
    "\n",
    "    if True in O:\n",
    "        print(\"Team O wins!\")\n",
    "        winner=\"O\"\n",
    "        print(game)\n",
    "    elif True in X:\n",
    "        print(\"Team X wins!\")\n",
    "        winner=\"X\"\n",
    "    else:\n",
    "        print(\"there is no winner\")\n",
    "        winner=\"asdasd\"\n",
    "    return winner\n",
    "        \n",
    "\n",
    "        \n",
    "def draw_and_check(game):\n",
    "    print(drawboard(game))\n",
    "    winner=gameWinner(game)\n",
    "    return winner\n",
    "\n",
    "game = [[\"\", \"\", \"\"], [\"\", \"\", \"\"], [\"\", \"\", \"\"]]\n",
    "draw_and_check(game)\n"
   ]
  },
  {
   "cell_type": "code",
   "execution_count": 6,
   "metadata": {},
   "outputs": [
    {
     "name": "stdout",
     "output_type": "stream",
     "text": [
      "\n",
      " ---   ---   ---  \n",
      "|    |     |     |  \n",
      " ---   ---   ---  \n",
      "|    |     |     |  \n",
      " ---   ---   ---  \n",
      "|    |     |     |  \n",
      " ---   ---   ---  \n",
      "\n",
      "[False, False, False, False, False, False, False, False]\n",
      "[False, False, False, False, False, False, False, False]\n",
      "\n",
      "there is no winner\n"
     ]
    }
   ],
   "source": [
    "winner=draw_and_check(game)"
   ]
  },
  {
   "cell_type": "code",
   "execution_count": 7,
   "metadata": {},
   "outputs": [],
   "source": [
    "game = [[\"\", \"\", \"\"], [\"\", \"\", \"\"], [\"\", \"\", \"\"]]"
   ]
  },
  {
   "cell_type": "markdown",
   "metadata": {},
   "source": [
    "# Lab 6.5. Ask user for a movement"
   ]
  },
  {
   "cell_type": "code",
   "execution_count": 8,
   "metadata": {},
   "outputs": [],
   "source": [
    "game = [[\"\", \"\", \"\"], [\"\", \"\", \"\"], [\"\", \"\", \"\"]]"
   ]
  },
  {
   "cell_type": "code",
   "execution_count": 9,
   "metadata": {},
   "outputs": [
    {
     "name": "stdout",
     "output_type": "stream",
     "text": [
      "Who is going to start, X or O?  X\n"
     ]
    }
   ],
   "source": [
    "user=\"perro\"\n",
    "while not(user==\"X\" or user==\"O\"):\n",
    "    user=input(\"Who is going to start, X or O?  \")\n",
    "#quizas la nomenclatura de row/column en el programa es liosa, pero sino no cuadraba al ejecutarlo\n",
    "def getMovement(user, game):\n",
    "    scol=\"\"\n",
    "    srow=\"\"\n",
    "    columns= [\"1\",\"2\",\"3\"]\n",
    "    rows= [\"1\",\"2\",\"3\"]\n",
    "    for i in range(99999):\n",
    "        while scol not in columns:\n",
    "            scol=input(\"In which row do you want your movement?  \")\n",
    "        col=int(scol)\n",
    "        while srow not in rows:\n",
    "            srow=input(\"In which column do you want your movement?  \")\n",
    "        row=int(srow)\n",
    "        if game[col-1][row-1]==\"\":\n",
    "            coords=[col,row]\n",
    "            break\n",
    "        else:\n",
    "            print(\"Sorry, that space is busy\")\n",
    "            scol=\"\"\n",
    "            srow=\"\"\n",
    "    coords=[col,row]\n",
    "    print()\n",
    "    return coords\n",
    "   \n"
   ]
  },
  {
   "cell_type": "markdown",
   "metadata": {},
   "source": [
    "# Lab 6.6. Update board with new movement"
   ]
  },
  {
   "cell_type": "code",
   "execution_count": 10,
   "metadata": {},
   "outputs": [],
   "source": [
    "game = [[\"\", \"\", \"\"], [\"\", \"\", \"\"], [\"\", \"\", \"\"]]"
   ]
  },
  {
   "cell_type": "code",
   "execution_count": 11,
   "metadata": {},
   "outputs": [],
   "source": [
    "#quizas la nomenclatura de row/column en el programa es liosa, pero sino no cuadraba al ejecutarlo\n",
    "def getMovement(user, game):\n",
    "    scol=\"\"\n",
    "    srow=\"\"\n",
    "    columns= [\"1\",\"2\",\"3\"]\n",
    "    rows= [\"1\",\"2\",\"3\"]\n",
    "    for i in range(99999):\n",
    "        while scol not in columns:\n",
    "            scol=input(\"In which column do you want your movement?  \")\n",
    "        col=int(scol)\n",
    "        while srow not in rows:\n",
    "            srow=input(\"In which row do you want your movement?  \")\n",
    "        row=int(srow)\n",
    "        if game[col-1][row-1]==\"\":\n",
    "            coords=[col,row]\n",
    "            break\n",
    "        else:\n",
    "            print(\"Sorry, that space is busy\")\n",
    "            scol=\"\"\n",
    "            srow=\"\"\n",
    "    coords=[col,row]\n",
    "    return coords\n",
    "\n",
    "\n",
    "def updateBoard(user,x,y,game):\n",
    "    game[x-1][y-1]=user\n",
    "    return game\n",
    "\n",
    "\n",
    "\n"
   ]
  },
  {
   "cell_type": "markdown",
   "metadata": {},
   "source": [
    "# Lab 6.7. Start new board"
   ]
  },
  {
   "cell_type": "code",
   "execution_count": 12,
   "metadata": {},
   "outputs": [
    {
     "data": {
      "text/plain": [
       "[['', '', ''], ['', '', ''], ['', '', '']]"
      ]
     },
     "execution_count": 12,
     "metadata": {},
     "output_type": "execute_result"
    }
   ],
   "source": [
    "def newGame():\n",
    "    game=[[\"\", \"\", \"\"], [\"\", \"\", \"\"], [\"\", \"\", \"\"]]\n",
    "    return game\n",
    "\n",
    "game=newGame()\n",
    "game"
   ]
  },
  {
   "cell_type": "markdown",
   "metadata": {},
   "source": [
    "# Lab 6.8. Game over "
   ]
  },
  {
   "cell_type": "code",
   "execution_count": 13,
   "metadata": {},
   "outputs": [],
   "source": [
    "def gameWinner(game):\n",
    "    gameT=list(zip(*game))\n",
    "    X=[]\n",
    "    O=[]\n",
    "    for i in range(3):\n",
    "        if \"X\" in game[i] and \"\" not in game[i] and \"O\" not in game[i]:\n",
    "            X.append(True)\n",
    "        else:\n",
    "            X.append(False)\n",
    "\n",
    "    for i in range(3):\n",
    "        if \"O\" in game[i] and \"X\" not in game[i] and \"\" not in game[i]:\n",
    "            O.append(True)\n",
    "        else:\n",
    "            O.append(False)\n",
    "\n",
    "\n",
    "\n",
    "    for i in range(3):\n",
    "        if \"X\" in gameT[i] and \"O\" not in gameT[i] and \"\" not in gameT[i]:\n",
    "            X.append(True)\n",
    "        else:\n",
    "            X.append(False)\n",
    "\n",
    "    for i in range(3):\n",
    "        if \"O\" in gameT[i] and \"X\" not in gameT[i] and \"\" not in gameT[i]:\n",
    "            O.append(True)\n",
    "        else:\n",
    "            O.append(False)\n",
    "\n",
    "    import numpy as np\n",
    "    diag=np.diag(game)\n",
    "    gameF=np.fliplr(game)\n",
    "    diagF=np.diag(gameF)\n",
    "\n",
    "\n",
    "\n",
    "    if \"O\" in diag and \"X\" not in diag and \"\" not in diag:\n",
    "        O.append(True)\n",
    "    else:\n",
    "        O.append(False)\n",
    "\n",
    "\n",
    "    if \"O\" in diagF and \"X\" not in diagF and \"\" not in diagF:\n",
    "        O.append(True)\n",
    "    else:\n",
    "        O.append(False)\n",
    "\n",
    "\n",
    "    if \"X\" in diag and \"O\" not in diag and \"\" not in diag:\n",
    "        X.append(True)\n",
    "    else:\n",
    "        X.append(False)\n",
    "\n",
    "\n",
    "    if \"X\" in diagF and \"O\" not in diagF and \"\" not in diagF:\n",
    "        X.append(True)\n",
    "    else:\n",
    "        X.append(False)\n",
    "        \n",
    "    print()\n",
    "    print()\n",
    "    print()\n",
    "\n",
    "    if True in O:\n",
    "        winner=\"O\"\n",
    "    elif True in X:\n",
    "        winner=\"X\"\n",
    "    else:\n",
    "        winner=\"\"\n",
    "    return winner\n",
    "        \n",
    "\n",
    "#gameWinner(game)\n",
    "#winner=gameWinner(game)\n",
    "\n",
    "def gameOver(winner,game):\n",
    "    again=\"\"\n",
    "    if winner==\"X\":\n",
    "        print(\"Team X wins!\")\n",
    "        while not (again==\"yes\" or again==\"no\"):\n",
    "            again=input(\"Would you like to play again? (type yes or no): \")\n",
    "            if not(again!=\"yes\" or again!=\"no\"):\n",
    "                print(\"That's not a correct answer\")\n",
    "        if again==\"yes\":\n",
    "            game = [[\"\", \"\", \"\"], [\"\", \"\", \"\"], [\"\", \"\", \"\"]]\n",
    "            print(\"A new game has been generated:\", drawboard(game))\n",
    "            return game,True\n",
    "        else:\n",
    "            print(\"Thank you for playing!\")\n",
    "            return game,False\n",
    "    elif winner==\"O\":\n",
    "        print(\"Team O wins!\")\n",
    "        while not (again==\"yes\" or again==\"no\"):\n",
    "            again=input(\"Would you like to play again? (type yes or no): \")\n",
    "            if not(again!=\"yes\" or again!=\"no\"):\n",
    "                print(\"That's not a correct answer\")\n",
    "        if again==\"yes\":\n",
    "            game = [[\"\", \"\", \"\"], [\"\", \"\", \"\"], [\"\", \"\", \"\"]]\n",
    "            print(\"A new game has been generated:\", drawboard(game))\n",
    "            return game,True\n",
    "        else:\n",
    "            print(\"Thank you for playing!\")\n",
    "            game = [[\"\", \"\", \"\"], [\"\", \"\", \"\"], [\"\", \"\", \"\"]]\n",
    "            return game,False\n",
    "    else:\n",
    "        return game,True\n",
    "\n",
    "        \n",
    "        \n",
    "\n",
    "\n",
    "\n",
    "\n"
   ]
  },
  {
   "cell_type": "markdown",
   "metadata": {},
   "source": [
    "# Lab 6.9. Code the game"
   ]
  },
  {
   "cell_type": "code",
   "execution_count": null,
   "metadata": {
    "scrolled": false
   },
   "outputs": [
    {
     "name": "stdout",
     "output_type": "stream",
     "text": [
      "Welcome to Tic Tac Toe, this is going to be the playing board:\n",
      "\n",
      " ---   ---   ---  \n",
      "|    |     |     |  \n",
      " ---   ---   ---  \n",
      "|    |     |     |  \n",
      " ---   ---   ---  \n",
      "|    |     |     |  \n",
      " ---   ---   ---  \n",
      "\n",
      "Who is going to start, X or O?  X\n",
      "In which column do you want your movement?  1\n",
      "In which row do you want your movement?  2\n",
      "This is the board now:\n",
      "\n",
      " ---   ---   ---  \n",
      "|    |     |     |  \n",
      " ---   ---   ---  \n",
      "| X  |     |     |  \n",
      " ---   ---   ---  \n",
      "|    |     |     |  \n",
      " ---   ---   ---  \n",
      "\n",
      "\n",
      "\n",
      "\n",
      "Is turn for team O\n",
      "In which column do you want your movement?  2\n",
      "In which row do you want your movement?  2\n",
      "This is the board now:\n",
      "\n",
      " ---   ---   ---  \n",
      "|    |     |     |  \n",
      " ---   ---   ---  \n",
      "| X  |  O  |     |  \n",
      " ---   ---   ---  \n",
      "|    |     |     |  \n",
      " ---   ---   ---  \n",
      "\n",
      "\n",
      "\n",
      "\n",
      "Is turn for team X\n",
      "In which column do you want your movement?  2\n",
      "In which row do you want your movement?  3\n",
      "This is the board now:\n",
      "\n",
      " ---   ---   ---  \n",
      "|    |     |     |  \n",
      " ---   ---   ---  \n",
      "| X  |  O  |     |  \n",
      " ---   ---   ---  \n",
      "|    |  X  |     |  \n",
      " ---   ---   ---  \n",
      "\n",
      "\n",
      "\n",
      "\n",
      "Is turn for team O\n",
      "In which column do you want your movement?  2\n",
      "In which row do you want your movement?  1\n",
      "Sorry, that space is busy\n",
      "In which column do you want your movement?  1\n",
      "In which row do you want your movement?  2\n",
      "This is the board now:\n",
      "\n",
      " ---   ---   ---  \n",
      "|    |     |     |  \n",
      " ---   ---   ---  \n",
      "| O  |  O  |     |  \n",
      " ---   ---   ---  \n",
      "|    |  X  |     |  \n",
      " ---   ---   ---  \n",
      "\n",
      "\n",
      "\n",
      "\n",
      "Is turn for team X\n"
     ]
    }
   ],
   "source": [
    "print(\"Welcome to Tic Tac Toe, this is going to be the playing board:\")\n",
    "game=newGame()\n",
    "drawboard(game)\n",
    "winner=\"\"\n",
    "user=\"\"\n",
    "i=0\n",
    "print()\n",
    "\n",
    "\n",
    "while True:\n",
    "    \n",
    "    \n",
    "    while not(user==\"X\" or user==\"O\"):\n",
    "        user=input(\"Who is going to start, X or O?  \")\n",
    "        if not(user==\"X\" or user==\"O\"):\n",
    "            print(\"That player is not avalieble, try again.\")\n",
    "            \n",
    "    \n",
    "    \n",
    "    x,y=getMovement(user, game)\n",
    "    game=updateBoard(user,y,x,game)\n",
    "    print(\"This is the board now:\")\n",
    "    winner=draw_and_check(game)\n",
    "    game,another=gameOver(winner,game)\n",
    "    \n",
    "        \n",
    "    if user==\"X\":\n",
    "        user=\"O\"\n",
    "    else:\n",
    "        user=\"X\"\n",
    "    i+=1\n",
    "    if i==9:\n",
    "        print(\"None of the teams have won!, would you like to play again?: \")\n",
    "        another=input('').lower()\n",
    "        if another=='no':\n",
    "            break\n",
    "        else:\n",
    "            game=newGame()\n",
    "        i=0\n",
    "    else:\n",
    "        print(\"Is turn for team\",user)\n",
    "    "
   ]
  },
  {
   "cell_type": "code",
   "execution_count": 16,
   "metadata": {},
   "outputs": [],
   "source": [
    "a='asdaASDASDsd'"
   ]
  },
  {
   "cell_type": "code",
   "execution_count": 15,
   "metadata": {},
   "outputs": [
    {
     "name": "stdout",
     "output_type": "stream",
     "text": [
      "\n",
      "\n"
     ]
    }
   ],
   "source": [
    "a=input('').lower()\n",
    "print(a)"
   ]
  },
  {
   "cell_type": "code",
   "execution_count": null,
   "metadata": {},
   "outputs": [],
   "source": []
  },
  {
   "cell_type": "code",
   "execution_count": null,
   "metadata": {},
   "outputs": [],
   "source": []
  }
 ],
 "metadata": {
  "kernelspec": {
   "display_name": "Python 3",
   "language": "python",
   "name": "python3"
  },
  "language_info": {
   "codemirror_mode": {
    "name": "ipython",
    "version": 3
   },
   "file_extension": ".py",
   "mimetype": "text/x-python",
   "name": "python",
   "nbconvert_exporter": "python",
   "pygments_lexer": "ipython3",
   "version": "3.7.3"
  }
 },
 "nbformat": 4,
 "nbformat_minor": 2
}
