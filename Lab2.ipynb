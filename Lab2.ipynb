{
 "cells": [
  {
   "cell_type": "markdown",
   "metadata": {},
   "source": [
    "# Lab 2.2. User Input in Python\n",
    "\n",
    "### Student: Jorge Candia\n",
    "### Group: Group A (GITT)\n",
    "### Date: 17/09/2019"
   ]
  },
  {
   "cell_type": "code",
   "execution_count": 1,
   "metadata": {},
   "outputs": [
    {
     "name": "stdout",
     "output_type": "stream",
     "text": [
      "Write your name and hit ENTER: jorg\n"
     ]
    }
   ],
   "source": [
    "name=input(\"Write your name and hit ENTER: \")"
   ]
  },
  {
   "cell_type": "code",
   "execution_count": 2,
   "metadata": {},
   "outputs": [
    {
     "name": "stdout",
     "output_type": "stream",
     "text": [
      "The name you enter was jorg\n"
     ]
    }
   ],
   "source": [
    "print (\"The name you enter was \"+name)"
   ]
  },
  {
   "cell_type": "markdown",
   "metadata": {},
   "source": [
    "# Lab 2.3. Even or Odd"
   ]
  },
  {
   "cell_type": "code",
   "execution_count": 15,
   "metadata": {},
   "outputs": [
    {
     "name": "stdout",
     "output_type": "stream",
     "text": [
      "write a number and hit ENTER: 2\n"
     ]
    }
   ],
   "source": [
    "number=input(\"write a number and hit ENTER: \")"
   ]
  },
  {
   "cell_type": "code",
   "execution_count": 16,
   "metadata": {},
   "outputs": [
    {
     "name": "stdout",
     "output_type": "stream",
     "text": [
      "the number you chose was 2\n",
      "the number you chose was 2 and is even\n"
     ]
    }
   ],
   "source": [
    "\n",
    "number_int=int(number)\n",
    "modulus=(number_int%2)\n",
    "if modulus==0:   \n",
    "    print(\"the number you chose was \"+number+\" and is even\")\n",
    "else:\n",
    "    print(\"the number you chose was \"+number+\" and is odd\")"
   ]
  },
  {
   "cell_type": "markdown",
   "metadata": {},
   "source": [
    "# Lab 2.4. Calculate circle parameters\n",
    "\n",
    "Acircle=$$\\pi*R^2$$\n",
    "Pcircle=$$2*\\pi*R$$"
   ]
  },
  {
   "cell_type": "code",
   "execution_count": 10,
   "metadata": {},
   "outputs": [
    {
     "name": "stdout",
     "output_type": "stream",
     "text": [
      "write the radius of your circle: 5\n"
     ]
    }
   ],
   "source": [
    "radius_str=input(\"write the radius of your circle: \")"
   ]
  },
  {
   "cell_type": "code",
   "execution_count": 11,
   "metadata": {},
   "outputs": [
    {
     "name": "stdout",
     "output_type": "stream",
     "text": [
      "the area of your circle is 78.53981633974483\n",
      "the perimeter of your circle is 31.41592653589793\n"
     ]
    }
   ],
   "source": [
    "r=float(radius_str)\n",
    "import numpy as np\n",
    "a=((r)**2)*np.pi\n",
    "p=2*np.pi*r\n",
    "stra=str(a)\n",
    "strp=str(p)\n",
    "print (\"the area of your circle is \"+stra)\n",
    "print (\"the perimeter of your circle is \"+strp)"
   ]
  },
  {
   "cell_type": "markdown",
   "metadata": {},
   "source": [
    "# Lab 2.5. Print circle with parameters\n",
    "\n",
    "We will plot a circle with its equation: $$x^2 + y^2 = R^2$$"
   ]
  },
  {
   "cell_type": "code",
   "execution_count": 2,
   "metadata": {},
   "outputs": [
    {
     "name": "stdout",
     "output_type": "stream",
     "text": [
      "write the radius of the circle you want to plot 5\n"
     ]
    }
   ],
   "source": [
    "rstr=input(\"write the radius of the circle you want to plot \")"
   ]
  },
  {
   "cell_type": "code",
   "execution_count": 26,
   "metadata": {},
   "outputs": [
    {
     "data": {
      "text/plain": [
       "Text(0.5, 1.0, 'the area of your circle is    78.54 and the perimeter of your circle is 31.42')"
      ]
     },
     "execution_count": 26,
     "metadata": {},
     "output_type": "execute_result"
    },
    {
     "data": {
      "image/png": "[encoded data removed]",
      "text/plain": [
       "<Figure size 432x288 with 1 Axes>"
      ]
     },
     "metadata": {
      "needs_background": "light"
     },
     "output_type": "display_data"
    }
   ],
   "source": [
    "import numpy as np\n",
    "r=float(rstr)\n",
    "x=np.linspace(-r,r,100)\n",
    "ox=np.linspace(0,0,100)\n",
    "y1=np.sqrt((r**2)-(x**2))\n",
    "y2=-(np.sqrt((r**2)-(x**2)))\n",
    "a=((r)**2)*np.pi\n",
    "p=2*np.pi*r\n",
    "stra=str(a)\n",
    "strp=str(p)\n",
    "x0=np.linspace(-5,5,100)\n",
    "\n",
    "import matplotlib.pyplot as plt\n",
    "plt.plot(y1,x,r)\n",
    "plt.plot(x,ox,r)\n",
    "plt.plot(y2,x,r)\n",
    "plt.stem(x,y1,use_line_collection=True)\n",
    "plt.stem(x,y2,use_line_collection=True)\n",
    "plt.title(\"the area of your circle is {0:8.2f} and the perimeter of your circle is {1:5.2f}\".format(a,p))"
   ]
  },
  {
   "cell_type": "markdown",
   "metadata": {},
   "source": [
    "# Lab 2.6. Get the standard deviation\n",
    "\n",
    "We will request the user for values and compute the standar deviation as\n",
    "\n",
    "$$ \\sigma=\\sqrt{\\frac{1}{N}\\sum_{I=I}^N(x_i-\\mu)^2}$$\n",
    "\n",
    "\n",
    "$$Where \"N\" is the number of values, \"x_i\" are every single value provided by the user and \"\\mu\" is the average of all values$$"
   ]
  },
  {
   "cell_type": "code",
   "execution_count": 64,
   "metadata": {},
   "outputs": [
    {
     "name": "stdout",
     "output_type": "stream",
     "text": [
      "Write first value: 3\n"
     ]
    }
   ],
   "source": [
    "value1=input(\"Write first value: \")\n",
    "fvalue1=float(value1)\n",
    "import numpy as np"
   ]
  },
  {
   "cell_type": "code",
   "execution_count": null,
   "metadata": {},
   "outputs": [],
   "source": []
  },
  {
   "cell_type": "code",
   "execution_count": null,
   "metadata": {},
   "outputs": [],
   "source": []
  },
  {
   "cell_type": "code",
   "execution_count": null,
   "metadata": {},
   "outputs": [],
   "source": []
  },
  {
   "cell_type": "code",
   "execution_count": null,
   "metadata": {},
   "outputs": [],
   "source": []
  },
  {
   "cell_type": "code",
   "execution_count": null,
   "metadata": {},
   "outputs": [],
   "source": []
  },
  {
   "cell_type": "code",
   "execution_count": 6,
   "metadata": {},
   "outputs": [
    {
     "name": "stdout",
     "output_type": "stream",
     "text": [
      "la primera variable es 14 la segunda variable es    15.68\n",
      "la primera variable es 12 la segunda variable es  1555.78\n"
     ]
    },
    {
     "data": {
      "text/plain": [
       "float"
      ]
     },
     "execution_count": 6,
     "metadata": {},
     "output_type": "execute_result"
    }
   ],
   "source": [
    "a=14\n",
    "b=15.678923467899\n",
    "c=12\n",
    "d=1555.78023457304503\n",
    "print(\"la primera variable es {0:2d} la segunda variable es {1:8.2f}\".format(a,b))\n",
    "print(\"la primera variable es {0:2d} la segunda variable es {1:8.2f}\".format(c,d))\n",
    "type(b)"
   ]
  },
  {
   "cell_type": "code",
   "execution_count": null,
   "metadata": {},
   "outputs": [],
   "source": []
  },
  {
   "cell_type": "code",
   "execution_count": null,
   "metadata": {},
   "outputs": [],
   "source": []
  }
 ],
 "metadata": {
  "kernelspec": {
   "display_name": "Python 3",
   "language": "python",
   "name": "python3"
  },
  "language_info": {
   "codemirror_mode": {
    "name": "ipython",
    "version": 3
   },
   "file_extension": ".py",
   "mimetype": "text/x-python",
   "name": "python",
   "nbconvert_exporter": "python",
   "pygments_lexer": "ipython3",
   "version": "3.7.3"
  }
 },
 "nbformat": 4,
 "nbformat_minor": 2
}
