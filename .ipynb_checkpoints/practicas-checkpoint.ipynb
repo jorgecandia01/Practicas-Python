{
 "cells": [
  {
   "cell_type": "code",
   "execution_count": 1,
   "metadata": {},
   "outputs": [
    {
     "data": {
      "text/plain": [
       "array([  4,  16,  36,  64, 100], dtype=int32)"
      ]
     },
     "execution_count": 1,
     "metadata": {},
     "output_type": "execute_result"
    }
   ],
   "source": [
    "import numpy as np\n",
    "vector=[2,4,6,8,10]\n",
    "np.power(vector,2)\n",
    "\n"
   ]
  },
  {
   "cell_type": "code",
   "execution_count": 2,
   "metadata": {},
   "outputs": [
    {
     "name": "stdout",
     "output_type": "stream",
     "text": [
      "The volume of a sphere with radius 12.34 is 7871.08\n"
     ]
    }
   ],
   "source": [
    "import numpy as np\n",
    "\n",
    "radius = 12.34\n",
    "volume = (4/3)*(np.pi*(radius**3))\n",
    "print(\"The volume of a sphere with radius %.2f is %.2f\" % (radius,volume))"
   ]
  },
  {
   "cell_type": "code",
   "execution_count": 6,
   "metadata": {},
   "outputs": [
    {
     "name": "stdout",
     "output_type": "stream",
     "text": [
      "Introduce number from 0 to 9: 2\n",
      "This is your number squared 4.0\n"
     ]
    }
   ],
   "source": [
    "number=input(\"Introduce number from 0 to 9: \")\n",
    "print(\"This is your number squared\",float(number)**2)"
   ]
  },
  {
   "cell_type": "code",
   "execution_count": 11,
   "metadata": {},
   "outputs": [
    {
     "name": "stdout",
     "output_type": "stream",
     "text": [
      "<class 'int'>\n",
      "Now we will calculate 444+44+4 = 492\n",
      "Result:  492\n"
     ]
    }
   ],
   "source": [
    "number=8\n",
    "number=4\n",
    "print(type(number))\n",
    "print(\"Now we will calculate 444+44+4 = 492\")\n",
    "n1 = \"%s\" % number\n",
    "n2 = \"%s%s\" % (number,number)\n",
    "n3 = \"%s%s%s\" % (number,number,number)\n",
    "n1_int = int(n1)\n",
    "n2_int = int(n2)\n",
    "n3_int = int(n3)\n",
    "print(\"Result: \",int(n1)+int(n2)+int(n3))"
   ]
  },
  {
   "cell_type": "code",
   "execution_count": 32,
   "metadata": {},
   "outputs": [
    {
     "data": {
      "text/plain": [
       "array([9818.05763934, 9818.05259501, 9818.03929488, 9818.00422722,\n",
       "       9817.91176693, 9817.6679877 , 9817.02527048, 9815.33095211,\n",
       "       9810.86572842, 9799.10708999, 9768.20482214, 9687.42365447,\n",
       "       9479.17364843, 8961.21733232, 7782.68396457, 5594.24935375,\n",
       "       2849.19051922,  925.06994385,  203.08348603,   35.22041263])"
      ]
     },
     "execution_count": 32,
     "metadata": {},
     "output_type": "execute_result"
    }
   ],
   "source": [
    "import math\n",
    "import numpy as np\n",
    "import matplotlib.pyplot as plt\n",
    "\n",
    "G=6.673*(10**-11)\n",
    "R=6371000               # earth radius in m\n",
    "r=np.logspace(0,8,20)   # distance in m\n",
    "M=5.972*np.power(10.0,24) # mass in kg\n",
    "m = 1000                # satellite mass in kg\n",
    "f=G*M*m/np.power(R+r,2)\n",
    "f"
   ]
  },
  {
   "cell_type": "code",
   "execution_count": 20,
   "metadata": {},
   "outputs": [
    {
     "data": {
      "text/plain": [
       "[<matplotlib.lines.Line2D at 0x2936a507860>]"
      ]
     },
     "execution_count": 20,
     "metadata": {},
     "output_type": "execute_result"
    },
    {
     "data": {
      "image/png": "[encoded data removed]",
      "text/plain": [
       "<Figure size 432x288 with 1 Axes>"
      ]
     },
     "metadata": {
      "needs_background": "light"
     },
     "output_type": "display_data"
    }
   ],
   "source": [
    "plt.title('Evolution of gravity attration with the altitude')\n",
    "plt.plot(r,f)    "
   ]
  },
  {
   "cell_type": "code",
   "execution_count": 21,
   "metadata": {},
   "outputs": [
    {
     "data": {
      "text/plain": [
       "array([9818.05763934, 9818.05259501, 9818.03929488, 9818.00422722,\n",
       "       9817.91176693, 9817.6679877 , 9817.02527048, 9815.33095211,\n",
       "       9810.86572842, 9799.10708999, 9768.20482214, 9687.42365447,\n",
       "       9479.17364843, 8961.21733232, 7782.68396457, 5594.24935375,\n",
       "       2849.19051922,  925.06994385,  203.08348603,   35.22041263])"
      ]
     },
     "execution_count": 21,
     "metadata": {},
     "output_type": "execute_result"
    }
   ],
   "source": [
    "import math\n",
    "import numpy as np\n",
    "import matplotlib.pyplot as plt\n",
    "\n",
    "G=6.673*np.power(10.0,-11)\n",
    "R=6371000               # earth radius in m\n",
    "r=np.logspace(0,8,20)   # distance in m\n",
    "M=5.972*np.power(10.0,24) # mass in kg\n",
    "m = 1000                # satellite mass in kg\n",
    "f=G*M*m/np.power(R+r,2)\n",
    "f"
   ]
  },
  {
   "cell_type": "code",
   "execution_count": 33,
   "metadata": {},
   "outputs": [
    {
     "ename": "AttributeError",
     "evalue": "module 'matplotlib.pyplot' has no attribute 'xAnnotation'",
     "output_type": "error",
     "traceback": [
      "\u001b[1;31m---------------------------------------------------------------------------\u001b[0m",
      "\u001b[1;31mAttributeError\u001b[0m                            Traceback (most recent call last)",
      "\u001b[1;32m<ipython-input-33-9d99269fa1f0>\u001b[0m in \u001b[0;36m<module>\u001b[1;34m\u001b[0m\n\u001b[0;32m      2\u001b[0m \u001b[0mplt\u001b[0m\u001b[1;33m.\u001b[0m\u001b[0mplot\u001b[0m\u001b[1;33m(\u001b[0m\u001b[0mr\u001b[0m\u001b[1;33m,\u001b[0m\u001b[0mf\u001b[0m\u001b[1;33m)\u001b[0m\u001b[1;33m\u001b[0m\u001b[1;33m\u001b[0m\u001b[0m\n\u001b[0;32m      3\u001b[0m \u001b[0masd\u001b[0m\u001b[1;33m=\u001b[0m\u001b[1;34m\"asfsdafasdf\"\u001b[0m\u001b[1;33m\u001b[0m\u001b[1;33m\u001b[0m\u001b[0m\n\u001b[1;32m----> 4\u001b[1;33m \u001b[0mplt\u001b[0m\u001b[1;33m.\u001b[0m\u001b[0mxAnnotation\u001b[0m\u001b[1;33m(\u001b[0m\u001b[0masd\u001b[0m\u001b[1;33m)\u001b[0m\u001b[1;33m\u001b[0m\u001b[1;33m\u001b[0m\u001b[0m\n\u001b[0m",
      "\u001b[1;31mAttributeError\u001b[0m: module 'matplotlib.pyplot' has no attribute 'xAnnotation'"
     ]
    },
    {
     "data": {
      "image/png": "[encoded data removed]",
      "text/plain": [
       "<Figure size 432x288 with 1 Axes>"
      ]
     },
     "metadata": {
      "needs_background": "light"
     },
     "output_type": "display_data"
    }
   ],
   "source": [
    "plt.title('Evolution of gravity attration with the altitude')\n",
    "plt.plot(r,f) \n",
    "asd=\"asfsdafasdf\"\n"
   ]
  },
  {
   "cell_type": "code",
   "execution_count": null,
   "metadata": {},
   "outputs": [],
   "source": []
  }
 ],
 "metadata": {
  "kernelspec": {
   "display_name": "Python 3",
   "language": "python",
   "name": "python3"
  },
  "language_info": {
   "codemirror_mode": {
    "name": "ipython",
    "version": 3
   },
   "file_extension": ".py",
   "mimetype": "text/x-python",
   "name": "python",
   "nbconvert_exporter": "python",
   "pygments_lexer": "ipython3",
   "version": "3.7.3"
  }
 },
 "nbformat": 4,
 "nbformat_minor": 2
}
