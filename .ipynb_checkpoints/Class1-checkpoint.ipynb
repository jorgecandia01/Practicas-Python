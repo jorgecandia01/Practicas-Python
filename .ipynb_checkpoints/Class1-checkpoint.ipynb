{
 "cells": [
  {
   "cell_type": "markdown",
   "metadata": {},
   "source": [
    "# This is the first notebook of this year"
   ]
  },
  {
   "cell_type": "markdown",
   "metadata": {},
   "source": [
    "In this notebook we will start coding in **Python**. We will make use of some *features* that will be explained in later sesions. Some of those features are:\n",
    "\n",
    "\n",
    "* Libraries\n",
    "* Variables\n",
    "* Functions\n",
    "* Loops"
   ]
  },
  {
   "cell_type": "markdown",
   "metadata": {},
   "source": [
    "## Now some simple algebra"
   ]
  },
  {
   "cell_type": "code",
   "execution_count": 1,
   "metadata": {},
   "outputs": [
    {
     "data": {
      "text/plain": [
       "-0.1"
      ]
     },
     "execution_count": 1,
     "metadata": {},
     "output_type": "execute_result"
    }
   ],
   "source": [
    "(1+3*2-8)/10"
   ]
  },
  {
   "cell_type": "code",
   "execution_count": 2,
   "metadata": {},
   "outputs": [
    {
     "data": {
      "text/plain": [
       "12.0"
      ]
     },
     "execution_count": 2,
     "metadata": {},
     "output_type": "execute_result"
    }
   ],
   "source": [
    "import math as mat\n",
    "mat.sqrt(144)"
   ]
  },
  {
   "cell_type": "code",
   "execution_count": 3,
   "metadata": {},
   "outputs": [
    {
     "name": "stdout",
     "output_type": "stream",
     "text": [
      "-0.8011526357338304\n"
     ]
    }
   ],
   "source": [
    "sin180=mat.sin(180)\n",
    "print(sin180)"
   ]
  },
  {
   "cell_type": "code",
   "execution_count": 4,
   "metadata": {},
   "outputs": [
    {
     "name": "stdout",
     "output_type": "stream",
     "text": [
      "-7.346410206643587e-06\n"
     ]
    }
   ],
   "source": [
    "sin180=mat.sin(3.1416)\n",
    "print(sin180)"
   ]
  },
  {
   "cell_type": "code",
   "execution_count": 5,
   "metadata": {},
   "outputs": [
    {
     "name": "stdout",
     "output_type": "stream",
     "text": [
      "This is the Numpy version:1.16.4\n",
      "3.141592653589793\n",
      "1.2246467991473532e-16\n"
     ]
    }
   ],
   "source": [
    "import numpy as np\n",
    "print(\"This is the Numpy version:\"+np.__version__)\n",
    "print(np.pi)\n",
    "sin180=mat.sin(np.pi)\n",
    "print(sin180)"
   ]
  },
  {
   "cell_type": "markdown",
   "metadata": {},
   "source": [
    "## Now some simple visualization"
   ]
  },
  {
   "cell_type": "code",
   "execution_count": 6,
   "metadata": {},
   "outputs": [
    {
     "name": "stdout",
     "output_type": "stream",
     "text": [
      "This is the Numpy version:1.16.4\n",
      "This is the Matplotlib version:3.1.0\n"
     ]
    }
   ],
   "source": [
    "import matplotlib\n",
    "import matplotlib.pyplot as plt\n",
    "import numpy as np\n",
    "print(\"This is the Numpy version:\"+np.__version__)\n",
    "print(\"This is the Matplotlib version:\"+matplotlib.__version__)"
   ]
  },
  {
   "cell_type": "code",
   "execution_count": 7,
   "metadata": {},
   "outputs": [
    {
     "name": "stdout",
     "output_type": "stream",
     "text": [
      "Size: 100\n",
      "[0.         0.09519978 0.19039955 0.28559933 0.38079911 0.47599889\n",
      " 0.57119866 0.66639844 0.76159822 0.856798   0.95199777 1.04719755\n",
      " 1.14239733 1.23759711 1.33279688 1.42799666 1.52319644 1.61839622\n",
      " 1.71359599 1.80879577 1.90399555 1.99919533 2.0943951  2.18959488\n",
      " 2.28479466 2.37999443 2.47519421 2.57039399 2.66559377 2.76079354\n",
      " 2.85599332 2.9511931  3.04639288 3.14159265 3.23679243 3.33199221\n",
      " 3.42719199 3.52239176 3.61759154 3.71279132 3.8079911  3.90319087\n",
      " 3.99839065 4.09359043 4.1887902  4.28398998 4.37918976 4.47438954\n",
      " 4.56958931 4.66478909 4.75998887 4.85518865 4.95038842 5.0455882\n",
      " 5.14078798 5.23598776 5.33118753 5.42638731 5.52158709 5.61678687\n",
      " 5.71198664 5.80718642 5.9023862  5.99758598 6.09278575 6.18798553\n",
      " 6.28318531 6.37838508 6.47358486 6.56878464 6.66398442 6.75918419\n",
      " 6.85438397 6.94958375 7.04478353 7.1399833  7.23518308 7.33038286\n",
      " 7.42558264 7.52078241 7.61598219 7.71118197 7.80638175 7.90158152\n",
      " 7.9967813  8.09198108 8.18718085 8.28238063 8.37758041 8.47278019\n",
      " 8.56797996 8.66317974 8.75837952 8.8535793  8.94877907 9.04397885\n",
      " 9.13917863 9.23437841 9.32957818 9.42477796]\n"
     ]
    }
   ],
   "source": [
    "x = np.linspace(0, 3*np.pi, 100)\n",
    "print(\"Size: \"+str(len(x)))\n",
    "print(x)"
   ]
  },
  {
   "cell_type": "code",
   "execution_count": 8,
   "metadata": {},
   "outputs": [],
   "source": [
    "y=np.sin(x)"
   ]
  },
  {
   "cell_type": "code",
   "execution_count": 9,
   "metadata": {},
   "outputs": [
    {
     "data": {
      "image/png": "[encoded data removed]",
      "text/plain": [
       "<Figure size 432x288 with 1 Axes>"
      ]
     },
     "metadata": {
      "needs_background": "light"
     },
     "output_type": "display_data"
    }
   ],
   "source": [
    "plt.plot(x, y)\n",
    "plt.title('A simple sin function');"
   ]
  },
  {
   "cell_type": "code",
   "execution_count": null,
   "metadata": {},
   "outputs": [],
   "source": []
  }
 ],
 "metadata": {
  "kernelspec": {
   "display_name": "Python 3",
   "language": "python",
   "name": "python3"
  },
  "language_info": {
   "codemirror_mode": {
    "name": "ipython",
    "version": 3
   },
   "file_extension": ".py",
   "mimetype": "text/x-python",
   "name": "python",
   "nbconvert_exporter": "python",
   "pygments_lexer": "ipython3",
   "version": "3.7.3"
  }
 },
 "nbformat": 4,
 "nbformat_minor": 2
}
