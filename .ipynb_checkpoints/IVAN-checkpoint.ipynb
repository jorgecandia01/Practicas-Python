{
 "cells": [
  {
   "cell_type": "code",
   "execution_count": null,
   "metadata": {},
   "outputs": [],
   "source": [
    "class Soldado:\n",
    "    def __init__(self,nome,raza):\n",
    "        self.nome = nome\n",
    "        self.raza = raza\n",
    "        if raza == \"Elfo\":\n",
    "            self.vida = 80\n",
    "            self.velocidade = 10\n",
    "            self.custo = 200\n",
    "        elif raza == \"Humano\":\n",
    "            self.vida = 100\n",
    "            self.velocidade = 7\n",
    "            self.custo = 100\n",
    "        elif raza == \"Enano\":\n",
    "            self.vida = 120\n",
    "            self.velocidade = 3\n",
    "            self.custo = 180\n",
    "\n",
    "    def arma(self, arma):\n",
    "        self.arma = arma\n",
    "\n",
    "#Creamos a lista exercito para almacenar os obxectos soldado\n",
    "exercito = []\n",
    "cantidade_soldados = int(input( \"Cantos soldados queres crear?: \"))\n",
    "#Creamos un bucle coa cantidade indicada\n",
    "for i in range (cantidade_soldados):\n",
    "    #Preguntamos nome e raza\n",
    "    nome = input(\"Nome do novo soldado: \")\n",
    "    raza = input(\"Raza do novo soldado (Elfo/Humano/Enano): \")\n",
    "    #Creamos o novo soldado\n",
    "    soldado = Soldado(nome, raza)\n",
    "    #Gardamos o obxecto soldado na lista exército\n",
    "    exercito.append(soldado)\n",
    "    \n",
    "for i in range (len(exercito)):\n",
    "#Chamamos a cada obxecto pola súa posición na lista exército\n",
    "    print(exercito[i].nome)"
   ]
  }
 ],
 "metadata": {
  "kernelspec": {
   "display_name": "Python 3",
   "language": "python",
   "name": "python3"
  },
  "language_info": {
   "codemirror_mode": {
    "name": "ipython",
    "version": 3
   },
   "file_extension": ".py",
   "mimetype": "text/x-python",
   "name": "python",
   "nbconvert_exporter": "python",
   "pygments_lexer": "ipython3",
   "version": "3.7.3"
  }
 },
 "nbformat": 4,
 "nbformat_minor": 2
}
