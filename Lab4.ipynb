{
 "cells": [
  {
   "cell_type": "markdown",
   "metadata": {},
   "source": [
    "# Lab 4.2. Discount calculator"
   ]
  },
  {
   "cell_type": "code",
   "execution_count": 3,
   "metadata": {},
   "outputs": [
    {
     "name": "stdout",
     "output_type": "stream",
     "text": [
      "Write the number of items that you want to buy: 10\n"
     ]
    }
   ],
   "source": [
    "stritems=input(\"Write the number of items that you want to buy: \")\n",
    "items=int(stritems)"
   ]
  },
  {
   "cell_type": "code",
   "execution_count": 4,
   "metadata": {},
   "outputs": [
    {
     "name": "stdout",
     "output_type": "stream",
     "text": [
      "The price of your purchase is: 100 €\n"
     ]
    }
   ],
   "source": [
    "if items<=0:\n",
    "    print(\"Error, you cannot buy less that 1 item\")\n",
    "elif items<=10:\n",
    "    price=items*10\n",
    "elif items<=100:\n",
    "    price=items*7\n",
    "else:\n",
    "    price=items*5\n",
    "        \n",
    "print(\"The price of your purchase is:\",price,\"€\")"
   ]
  },
  {
   "cell_type": "markdown",
   "metadata": {},
   "source": [
    "# Lab 4.3. Body Mass Index calculator"
   ]
  },
  {
   "cell_type": "code",
   "execution_count": 5,
   "metadata": {},
   "outputs": [
    {
     "name": "stdout",
     "output_type": "stream",
     "text": [
      "Introduce your weight in kilograms: 67\n",
      "Introduce your height in meters: 1.75\n"
     ]
    }
   ],
   "source": [
    "strweight=input(\"Introduce your weight in kilograms: \")\n",
    "strheight=input(\"Introduce your height in meters: \")\n",
    "weight=float(strweight)\n",
    "height=float(strheight)"
   ]
  },
  {
   "cell_type": "code",
   "execution_count": 6,
   "metadata": {},
   "outputs": [
    {
     "name": "stdout",
     "output_type": "stream",
     "text": [
      "your CMI is:  21.877551020408163\n",
      "You have a normal weight\n"
     ]
    }
   ],
   "source": [
    "imc=((weight)/(height)**2)\n",
    "print(\"your CMI is: \",imc)\n",
    "if imc<=0:\n",
    "    print(\"The data you introduced is wrong\")\n",
    "    \n",
    "elif imc<16.0:\n",
    "    print(\"You have a severe underweight\")\n",
    "elif imc<17.0:\n",
    "    print(\"You have a moderated underweight\")\n",
    "elif imc<18.5:\n",
    "    print(\"You have a slight underweight\")\n",
    "elif imc<25:\n",
    "    print(\"You have a normal weight\")\n",
    "elif imc<30:\n",
    "    print(\"You have a preoverweight\")\n",
    "elif imc<35:\n",
    "    print(\"You have a slight overweight\")\n",
    "elif imc<40:\n",
    "    print(\"You have a moderated overweight\")\n",
    "else:\n",
    "    print(\"You have morbid overweight\")\n",
    "    "
   ]
  },
  {
   "cell_type": "markdown",
   "metadata": {},
   "source": [
    "# Lab 4.4. Password generator"
   ]
  },
  {
   "cell_type": "code",
   "execution_count": 8,
   "metadata": {
    "scrolled": true
   },
   "outputs": [
    {
     "name": "stdout",
     "output_type": "stream",
     "text": [
      "your password is: 09E8n23#\n"
     ]
    }
   ],
   "source": [
    "uppercase=\"QWERTYUIOPASDFGHJKLZXCVBNM\"\n",
    "lowercase=\"qwertyuiopasdfghjklzxcvbnm\"\n",
    "symbol=\"#@?¬\"\n",
    "import random\n",
    "\n",
    "n1=str(random.randint(0,9))\n",
    "n2=str(random.randint(0,9))\n",
    "n3=str(random.sample(uppercase, k=1))\n",
    "n4=str(random.randint(0,9))\n",
    "n5=str(random.sample(lowercase, k=1))\n",
    "n6=str(random.randint(0,9))\n",
    "n7=str(random.randint(0,9))\n",
    "n8=str(random.sample(symbol, k=1))\n",
    "\n",
    "print(\"your password is:\",n1+n2+n3[2]+n4+n5[2]+n6+n7+n8[2])\n",
    "\n",
    "#como bien pidió el ejercicio, el programa devuelve una contraseña con minimo 1 numero, una letra minúscula, otra mayúscula y\n",
    "#un caracter especial, aunque estos tengan posiciones fijas en la contreña."
   ]
  },
  {
   "cell_type": "markdown",
   "metadata": {},
   "source": [
    "# Lab 4.5. User registering application"
   ]
  },
  {
   "cell_type": "code",
   "execution_count": 9,
   "metadata": {},
   "outputs": [
    {
     "name": "stdout",
     "output_type": "stream",
     "text": [
      "choose an username that has only 8 characters: 12345678\n"
     ]
    }
   ],
   "source": [
    "uppercase=\"QWERTYUIOPASDFGHJKLZXCVBNM\"\n",
    "lowercase=\"qwertyuiopasdfghjklzxcvbnm\"\n",
    "symbol=\"#@?¬\"\n",
    "import random\n",
    "n1=str(random.randint(0,9))\n",
    "n2=str(random.randint(0,9))\n",
    "n3=str(random.sample(uppercase, k=1))\n",
    "n4=str(random.randint(0,9))\n",
    "n5=str(random.sample(lowercase, k=1))\n",
    "n6=str(random.randint(0,9))\n",
    "n7=str(random.randint(0,9))\n",
    "n8=str(random.sample(symbol, k=1))\n",
    "\n",
    "\n",
    "for i in range(999999):\n",
    "    username=input(\"choose an username that has only 8 characters: \")\n",
    "    if len(username)==8:break\n",
    "    if i==2 and len(username)!=8:\n",
    "        print (\"you failed on your task\")\n",
    "    elif len(username)==8:\n",
    "        for j in range(3):\n",
    "            password=input(\"choose a password of 8 characters with at least 1 upper case, 1 lower case, 1 digit and 1 special charaacter: \")\n",
    "            for k in uppercase:\n",
    "                if k in password:\n",
    "                    print(password)\n",
    "        \n",
    "\n",
    "        \n",
    "\n",
    "        "
   ]
  },
  {
   "cell_type": "code",
   "execution_count": 10,
   "metadata": {
    "scrolled": true
   },
   "outputs": [
    {
     "name": "stdout",
     "output_type": "stream",
     "text": [
      "choose an username that has only 8 characters: holahola\n",
      "choose a password of 8 characters with at least 1 upper case, 1 lower case, 1 digit and 1 special charaacter between #, @, ? and ¬: Aa1#aaaa\n",
      "Congratulations!, your username is holahola and your password is  Aa1#aaaa\n"
     ]
    }
   ],
   "source": [
    "uppercase=\"QWERTYUIOPASDFGHJKLZXCVBNM\"\n",
    "upperlist=list(uppercase)\n",
    "lowercase=\"qwertyuiopasdfghjklzxcvbnm\"\n",
    "lowerlist=list(lowercase)\n",
    "symbol=\"#@?¬\"\n",
    "symbollist=list(symbol)\n",
    "number=(\"0123456789\")\n",
    "numberlist=list(number)\n",
    "import random\n",
    "n1=str(random.randint(0,9))\n",
    "n2=str(random.randint(0,9))\n",
    "n3=str(random.sample(uppercase, k=1))\n",
    "n4=str(random.randint(0,9))\n",
    "n5=str(random.sample(lowercase, k=1))\n",
    "n6=str(random.randint(0,9))\n",
    "n7=str(random.randint(0,9))\n",
    "n8=str(random.sample(symbol, k=1))\n",
    "\n",
    "\n",
    "for i in range(999999):\n",
    "    username=input(\"choose an username that has only 8 characters: \")\n",
    "    if len(username)==8:break\n",
    "for j in range(3):\n",
    "    password=input(\"choose a password of 8 characters with at least 1 upper case, 1 lower case, 1 digit and 1 special charaacter between #, @, ? and ¬: \")\n",
    "    passlist=list(password)\n",
    "    if len(password)==8: \n",
    "        lenght=111\n",
    "    for letra in upperlist:\n",
    "        if letra in passlist: \n",
    "            upper=111\n",
    "            break\n",
    "    for letra in lowerlist:\n",
    "        if letra in passlist:\n",
    "            lower=111\n",
    "            break\n",
    "    for letra in symbollist:\n",
    "        if letra in passlist:\n",
    "            sym=111\n",
    "            break\n",
    "    for number in numberlist:\n",
    "        if number in passlist:\n",
    "            number=111\n",
    "            break\n",
    "    if number == sym == lower == upper==number:\n",
    "        print(\"Congratulations!, your username is\",username,\"and your password is \",password)\n",
    "        break\n",
    "    if j==2:\n",
    "        password=n1+n2+n3[2]+n4+n5[2]+n6+n7+n8[2]\n",
    "        print(\"you dind't select a password properly. Your password is: \",password)\n",
    "    "
   ]
  },
  {
   "cell_type": "code",
   "execution_count": 11,
   "metadata": {},
   "outputs": [],
   "source": [
    "caracteresraros=\",;:.-_{}()?¿!\\@#$%&/[]\"\n",
    "caracs=list(caracteresraros)"
   ]
  },
  {
   "cell_type": "code",
   "execution_count": 12,
   "metadata": {},
   "outputs": [
    {
     "data": {
      "text/plain": [
       "[',',\n",
       " ';',\n",
       " ':',\n",
       " '.',\n",
       " '-',\n",
       " '_',\n",
       " '{',\n",
       " '}',\n",
       " '(',\n",
       " ')',\n",
       " '?',\n",
       " '¿',\n",
       " '!',\n",
       " '\\\\',\n",
       " '@',\n",
       " '#',\n",
       " '$',\n",
       " '%',\n",
       " '&',\n",
       " '/',\n",
       " '[',\n",
       " ']']"
      ]
     },
     "execution_count": 12,
     "metadata": {},
     "output_type": "execute_result"
    }
   ],
   "source": [
    "caracs"
   ]
  },
  {
   "cell_type": "code",
   "execution_count": null,
   "metadata": {},
   "outputs": [],
   "source": []
  }
 ],
 "metadata": {
  "kernelspec": {
   "display_name": "Python 3",
   "language": "python",
   "name": "python3"
  },
  "language_info": {
   "codemirror_mode": {
    "name": "ipython",
    "version": 3
   },
   "file_extension": ".py",
   "mimetype": "text/x-python",
   "name": "python",
   "nbconvert_exporter": "python",
   "pygments_lexer": "ipython3",
   "version": "3.7.3"
  }
 },
 "nbformat": 4,
 "nbformat_minor": 2
}
