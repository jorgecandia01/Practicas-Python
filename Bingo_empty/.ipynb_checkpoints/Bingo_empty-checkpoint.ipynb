{
 "cells": [
  {
   "cell_type": "markdown",
   "metadata": {},
   "source": [
    "# Automated Bingo Game"
   ]
  },
  {
   "cell_type": "markdown",
   "metadata": {},
   "source": [
    "### Create a method that returns a list with size * size random unique numbers between 0 and maximum\n",
    "\n",
    "With this definition:\n",
    "\n",
    "        def generar_carton(size, maximum)\n",
    "\n",
    "For example:\n",
    "\n",
    "        card = generar_carton(3, 20)\n",
    "        print(card)\n",
    "        [6, 4, 15, 8, 18, 1, 11, 17, 3]"
   ]
  },
  {
   "cell_type": "code",
   "execution_count": 105,
   "metadata": {},
   "outputs": [
    {
     "name": "stdout",
     "output_type": "stream",
     "text": [
      "[18, 7, 13, 14, 17, 2, 3, 9, 7, 1, 16, 8, 19, 9, 4, 15, 3, 4, 20, 1, 1, 18, 16, 2, 19]\n"
     ]
    }
   ],
   "source": [
    "def generar_carton(size,maximum):\n",
    "    import random\n",
    "    card=[]\n",
    "    for i in range(size**2):\n",
    "        num=random.randint(0,maximum)\n",
    "        card.append(num)\n",
    "    return card\n",
    "            \n",
    "carton=generar_carton(5,20)\n",
    "print(carton)"
   ]
  },
  {
   "cell_type": "markdown",
   "metadata": {},
   "source": [
    "### Create a method that plots a bingo play card with an X in every matched number\n",
    "\n",
    "With this definition:\n",
    "\n",
    "        def imprime_carton(card, numbers)\n",
    "        \n",
    "Where \"card\" is the generated list with random numbers from previous step and \"numbers\" is a list with the number_balls that have already being popped out from the bingo drum. This function does not return anything only prints the card.\n",
    "\n",
    "For example:\n",
    "\n",
    "        imprime_carton([6, 4, 15, 8, 18, 1, 11, 17, 3], [])\n",
    "\n",
    "        |  6|  4| 15|\n",
    "        |  8| 18|  1|\n",
    "        | 11| 17|  3|\n",
    "        \n",
    "        imprime_carton([6, 4, 15, 8, 18, 1, 11, 17, 3], [1,2,3,4,5,6,7,8])\n",
    "        \n",
    "        |  X|  X| 15|\n",
    "        |  X| 18|  X|\n",
    "        | 11| 17|  X|"
   ]
  },
  {
   "cell_type": "code",
   "execution_count": 106,
   "metadata": {},
   "outputs": [
    {
     "name": "stdout",
     "output_type": "stream",
     "text": [
      "| 18 |  7 | 13 | 14 | 17 |\n",
      "|X   |X   |  9 |  7 |X   |\n",
      "| 16 |  8 | 19 |  9 |X   |\n",
      "| 15 |X   |X   | 20 |X   |\n",
      "|X   | 18 | 16 |X   | 19 |\n"
     ]
    }
   ],
   "source": [
    "def imprime_cartonc(card, numbers):\n",
    "    import numpy as np\n",
    "    l=int(np.sqrt(len(carton)))\n",
    "    count=0\n",
    "    for i in range(l):\n",
    "        print('|',end=(''))\n",
    "        for j in range(l):\n",
    "            if card[count] not in numbers:\n",
    "                print('{:3} |'.format(card[count]),end=(''))\n",
    "            else:\n",
    "                print('{:3} |'.format('X'),end=(''))\n",
    "            count+=1\n",
    "        print()\n",
    "                \n",
    "imprime_cartonc(carton,[1,2,3,4])"
   ]
  },
  {
   "cell_type": "markdown",
   "metadata": {},
   "source": [
    "### Create a method that simulates the Bing drum\n",
    "\n",
    "With this definition:\n",
    "\n",
    "        def simulate_drum(maximum,numbers)\n",
    "        \n",
    "Where \"maximum\" is the maximum value we are playing with and \"numbers\" is a list with all the number_balls that have already being popped out from the bingo drum. It must return a number that is in the Bingo drum (not any fo the numbers that have already being popped out)\n",
    "\n",
    "For example:\n",
    "\n",
    "        new_ball=simulate_drum(20, [1,2,3,4,5,6,7,8,9,10,11,12,13,14,15,16,17])\n",
    "        print(new_ball)\n",
    "        19"
   ]
  },
  {
   "cell_type": "code",
   "execution_count": 88,
   "metadata": {},
   "outputs": [
    {
     "data": {
      "text/plain": [
       "5"
      ]
     },
     "execution_count": 88,
     "metadata": {},
     "output_type": "execute_result"
    }
   ],
   "source": []
  },
  {
   "cell_type": "markdown",
   "metadata": {},
   "source": [
    "### Create a method that returns True when all the numbers in the Bingo Play Card have allready beoing popped out\n",
    "\n",
    "With this definition:\n",
    "\n",
    "        def finished(card,numbers)\n",
    "        \n",
    "Where \"card\" is the generated list with random numbers and \"numbers\" is a list with all the number_balls that have already being popped out from the bingo drum. It must return TRUE if the play card is complete or FALSE otherwise."
   ]
  },
  {
   "cell_type": "code",
   "execution_count": 4,
   "metadata": {},
   "outputs": [],
   "source": []
  },
  {
   "cell_type": "markdown",
   "metadata": {},
   "source": [
    "### Test and understand this method to play the game"
   ]
  },
  {
   "cell_type": "code",
   "execution_count": 1,
   "metadata": {},
   "outputs": [],
   "source": [
    "def play_game(size,maximum):\n",
    "    numbers_from_the_drum=[]\n",
    "    balls=0\n",
    "    card=generar_carton(size, maximum)\n",
    "    imprime_carton(card,numbers_from_the_drum)\n",
    "    while not finished(card,numbers_from_the_drum):\n",
    "        new_ball=simulate_drum(maximum,numbers_from_the_drum)\n",
    "        balls=balls+1\n",
    "        print(\"New Number: \",new_ball)\n",
    "        numbers_from_the_drum.append(new_ball)\n",
    "        print(\"Updated Play Card: \")\n",
    "        imprime_carton(card,numbers_from_the_drum)\n",
    "    return balls"
   ]
  },
  {
   "cell_type": "code",
   "execution_count": null,
   "metadata": {},
   "outputs": [],
   "source": []
  },
  {
   "cell_type": "code",
   "execution_count": null,
   "metadata": {},
   "outputs": [],
   "source": []
  },
  {
   "cell_type": "markdown",
   "metadata": {},
   "source": [
    "### Create a version of the previous method with no print outs\n",
    "\n",
    "With this definition:\n",
    "    \n",
    "        def play_game_no_display(size,maximum)"
   ]
  },
  {
   "cell_type": "code",
   "execution_count": 6,
   "metadata": {},
   "outputs": [],
   "source": []
  },
  {
   "cell_type": "markdown",
   "metadata": {},
   "source": [
    "### Create python script that simulates a game for card sizes from 1 to 9 with 100 balls in the Bingo drum that simulates 10 games per size. It must compute the average of the number of balls required to complete the card for every size.\n",
    "\n",
    "You must finished with an X vector like this [1,2,3,4,5,6,7,8,9]\n",
    "And a Y vector with the average number of balls required for 10 repetitions of a Bing game for each size\n",
    "\n",
    "Plot the evolution of \"Average number of balls required\" Vs \"Card size\""
   ]
  },
  {
   "cell_type": "code",
   "execution_count": null,
   "metadata": {},
   "outputs": [],
   "source": []
  }
 ],
 "metadata": {
  "kernelspec": {
   "display_name": "Python 3",
   "language": "python",
   "name": "python3"
  }
 },
 "nbformat": 4,
 "nbformat_minor": 2
}
