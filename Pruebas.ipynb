{
 "cells": [
  {
   "cell_type": "code",
   "execution_count": 5,
   "metadata": {},
   "outputs": [
    {
     "name": "stdout",
     "output_type": "stream",
     "text": [
      "3\n",
      "12\n",
      "1 2\n"
     ]
    }
   ],
   "source": [
    "print(1+2)\n",
    "print('1'+'2')\n",
    "print(1,2)"
   ]
  },
  {
   "cell_type": "code",
   "execution_count": 10,
   "metadata": {},
   "outputs": [
    {
     "name": "stdout",
     "output_type": "stream",
     "text": [
      "6\n",
      "6\n"
     ]
    }
   ],
   "source": [
    "frase='hola, qué tal estás?'\n",
    "print(frase.find('q'))\n",
    "print(frase.find('qué'))"
   ]
  },
  {
   "cell_type": "code",
   "execution_count": 23,
   "metadata": {},
   "outputs": [
    {
     "name": "stdout",
     "output_type": "stream",
     "text": [
      "Tengo 18 años\n",
      "TENGO 18 AÑOS\n",
      "TENGO 18 AÑOS \n",
      "\n",
      "T-e-n-g-o- -1-8- -a-ñ-o-s\n"
     ]
    }
   ],
   "source": [
    "otrafrase='Tengo 18 años'\n",
    "print(otrafrase)\n",
    "otrafrase1=otrafrase.upper()\n",
    "print(otrafrase1)\n",
    "otrafrase2=otrafrase.upper()\n",
    "print(otrafrase2,'\\n')\n",
    "print('-'.join(otrafrase))"
   ]
  },
  {
   "cell_type": "code",
   "execution_count": 33,
   "metadata": {},
   "outputs": [
    {
     "name": "stdout",
     "output_type": "stream",
     "text": [
      "[0.1, 0.2, 0.3, 0, 1, 2, 3, 4, 5, 6, 7, 8, 9]\n",
      "[0.1, 0.2, 0.3, 0, 2, 3, 4, 5, 6, 7, 8, 9]\n",
      "1\n"
     ]
    }
   ],
   "source": [
    "lista=[0.1,0.2,0.3,0,1,2,3,4,5,6,7,8,9]\n",
    "print(lista)\n",
    "pos=lista.pop(4)\n",
    "print(lista)\n",
    "print(pos)"
   ]
  },
  {
   "cell_type": "code",
   "execution_count": 43,
   "metadata": {},
   "outputs": [
    {
     "ename": "TypeError",
     "evalue": "cannot convert dictionary update sequence element #1 to a sequence",
     "output_type": "error",
     "traceback": [
      "\u001b[1;31m---------------------------------------------------------------------------\u001b[0m",
      "\u001b[1;31mTypeError\u001b[0m                                 Traceback (most recent call last)",
      "\u001b[1;32m<ipython-input-43-7fe10a112555>\u001b[0m in \u001b[0;36m<module>\u001b[1;34m\u001b[0m\n\u001b[0;32m      1\u001b[0m \u001b[0motralista\u001b[0m\u001b[1;33m=\u001b[0m\u001b[1;33m[\u001b[0m\u001b[1;34m'perro'\u001b[0m\u001b[1;33m,\u001b[0m\u001b[1;34m'gato'\u001b[0m\u001b[1;33m]\u001b[0m\u001b[1;33m\u001b[0m\u001b[1;33m\u001b[0m\u001b[0m\n\u001b[1;32m----> 2\u001b[1;33m \u001b[0mdiccionario\u001b[0m\u001b[1;33m=\u001b[0m\u001b[0mdict\u001b[0m\u001b[1;33m(\u001b[0m\u001b[0mlista\u001b[0m\u001b[1;33m)\u001b[0m\u001b[1;33m\u001b[0m\u001b[1;33m\u001b[0m\u001b[0m\n\u001b[0m\u001b[0;32m      3\u001b[0m \u001b[0mprint\u001b[0m\u001b[1;33m(\u001b[0m\u001b[0mdiccionario\u001b[0m\u001b[1;33m)\u001b[0m\u001b[1;33m\u001b[0m\u001b[1;33m\u001b[0m\u001b[0m\n",
      "\u001b[1;31mTypeError\u001b[0m: cannot convert dictionary update sequence element #1 to a sequence"
     ]
    }
   ],
   "source": [
    "otralista=['perro','gato']\n",
    "diccionario=dict(lista)\n",
    "print(diccionario)"
   ]
  },
  {
   "cell_type": "code",
   "execution_count": 47,
   "metadata": {},
   "outputs": [
    {
     "name": "stdout",
     "output_type": "stream",
     "text": [
      "[1, 2]\n",
      "[10, 20]\n",
      "[100, 200]\n",
      "[1000, 2000]\n",
      "1 2\n",
      "10 20\n",
      "100 200\n",
      "1000 2000\n",
      "[1, 2]\n",
      "[10, 20, 30]\n",
      "[100, 200]\n",
      "[1000, 2000, 3000]\n",
      "1 2\n"
     ]
    },
    {
     "ename": "ValueError",
     "evalue": "too many values to unpack (expected 2)",
     "output_type": "error",
     "traceback": [
      "\u001b[1;31m---------------------------------------------------------------------------\u001b[0m",
      "\u001b[1;31mValueError\u001b[0m                                Traceback (most recent call last)",
      "\u001b[1;32m<ipython-input-47-055502155006>\u001b[0m in \u001b[0;36m<module>\u001b[1;34m\u001b[0m\n\u001b[0;32m     11\u001b[0m     \u001b[0mprint\u001b[0m\u001b[1;33m(\u001b[0m\u001b[0mi\u001b[0m\u001b[1;33m)\u001b[0m\u001b[1;33m\u001b[0m\u001b[1;33m\u001b[0m\u001b[0m\n\u001b[0;32m     12\u001b[0m \u001b[1;33m\u001b[0m\u001b[0m\n\u001b[1;32m---> 13\u001b[1;33m \u001b[1;32mfor\u001b[0m \u001b[0mi\u001b[0m\u001b[1;33m,\u001b[0m\u001b[0mj\u001b[0m \u001b[1;32min\u001b[0m \u001b[0mnested2\u001b[0m\u001b[1;33m:\u001b[0m\u001b[1;33m\u001b[0m\u001b[1;33m\u001b[0m\u001b[0m\n\u001b[0m\u001b[0;32m     14\u001b[0m     \u001b[0mprint\u001b[0m\u001b[1;33m(\u001b[0m\u001b[0mi\u001b[0m\u001b[1;33m,\u001b[0m\u001b[0mj\u001b[0m\u001b[1;33m)\u001b[0m\u001b[1;33m\u001b[0m\u001b[1;33m\u001b[0m\u001b[0m\n",
      "\u001b[1;31mValueError\u001b[0m: too many values to unpack (expected 2)"
     ]
    }
   ],
   "source": [
    "nested=[[1,2],[10,20],[100,200],[1000,2000]]\n",
    "nested2=[[1,2],[10,20,30],[100,200],[1000,2000,3000]]\n",
    "\n",
    "for i in nested:\n",
    "    print(i)\n",
    "\n",
    "for i,j in nested:\n",
    "    print(i,j)\n",
    "    \n",
    "for i in nested2:\n",
    "    print(i)\n",
    "\n",
    "for i,j in nested2:\n",
    "    print(i,j)"
   ]
  },
  {
   "cell_type": "code",
   "execution_count": 78,
   "metadata": {},
   "outputs": [
    {
     "name": "stdout",
     "output_type": "stream",
     "text": [
      "0\n",
      "10\n",
      "20\n",
      "30\n",
      "40\n",
      "1\n",
      "10\n",
      "20\n",
      "30\n",
      "40\n",
      "2\n",
      "10\n",
      "20\n",
      "30\n",
      "40\n",
      "3\n",
      "4\n",
      "5\n",
      "6\n",
      "7\n",
      "8\n",
      "9\n"
     ]
    }
   ],
   "source": [
    "i=0\n",
    "for i in range(0,10):\n",
    "    print(i)\n",
    "    if i<3:\n",
    "        for j in range(10,100,10):\n",
    "            if j==50:\n",
    "                break\n",
    "            print(j)\n"
   ]
  },
  {
   "cell_type": "code",
   "execution_count": 94,
   "metadata": {},
   "outputs": [
    {
     "name": "stdout",
     "output_type": "stream",
     "text": [
      "Eduardo\n",
      "Eduard\n",
      "Eduar\n",
      "Edua\n",
      "Edu\n",
      "Ed\n",
      "E\n",
      "Jorge\n"
     ]
    }
   ],
   "source": [
    "nombre='Eduardo'\n",
    "nombre2='Jorge'\n",
    "while nombre:\n",
    "    print(nombre)\n",
    "    nombre=nombre[:-1]\n",
    "else:\n",
    "    print(nombre2)\n",
    "\n",
    "nombre='Eduardo'\n",
    "nombre2='Jorge'"
   ]
  },
  {
   "cell_type": "code",
   "execution_count": 101,
   "metadata": {},
   "outputs": [
    {
     "name": "stdout",
     "output_type": "stream",
     "text": [
      "[1, 1, 1]\n"
     ]
    }
   ],
   "source": [
    "lista=[1 for i in nombre.lower() for j in range(3) if 'e' in i]\n",
    "print(lista)"
   ]
  },
  {
   "cell_type": "code",
   "execution_count": 121,
   "metadata": {},
   "outputs": [
    {
     "data": {
      "text/plain": [
       "True"
      ]
     },
     "execution_count": 121,
     "metadata": {},
     "output_type": "execute_result"
    }
   ],
   "source": [
    "palabra='1'\n",
    "palabra.isdigit()"
   ]
  },
  {
   "cell_type": "code",
   "execution_count": 136,
   "metadata": {},
   "outputs": [
    {
     "name": "stdout",
     "output_type": "stream",
     "text": [
      "<Response [200]>\n",
      "<class 'dict'>\n"
     ]
    }
   ],
   "source": [
    "import requests\n",
    "r = requests.get('https://api.chucknorris.io/jokes/random')\n",
    "print(r)\n",
    "texto=r.json()\n",
    "print(type(texto))"
   ]
  },
  {
   "cell_type": "code",
   "execution_count": 153,
   "metadata": {},
   "outputs": [
    {
     "name": "stdout",
     "output_type": "stream",
     "text": [
      "<class 'dict'>\n",
      "{'menu': {'day': '29/10/2019', 'value': '11.50€', 'food': {'options': [{'starter': 'soup', 'main': 'fish&chips'}, {'starter': 'salad', 'main': 'pasta'}, {'starter': 'steak tartare', 'main': 'tuna'}]}}}\n",
      "<class 'str'>\n"
     ]
    },
    {
     "ename": "JSONDecodeError",
     "evalue": "Expecting property name enclosed in double quotes: line 1 column 2 (char 1)",
     "output_type": "error",
     "traceback": [
      "\u001b[1;31m---------------------------------------------------------------------------\u001b[0m",
      "\u001b[1;31mJSONDecodeError\u001b[0m                           Traceback (most recent call last)",
      "\u001b[1;32m<ipython-input-153-469a1f66abbf>\u001b[0m in \u001b[0;36m<module>\u001b[1;34m\u001b[0m\n\u001b[0;32m     17\u001b[0m \u001b[0mprint\u001b[0m\u001b[1;33m(\u001b[0m\u001b[0mtype\u001b[0m\u001b[1;33m(\u001b[0m\u001b[0ma\u001b[0m\u001b[1;33m)\u001b[0m\u001b[1;33m)\u001b[0m\u001b[1;33m\u001b[0m\u001b[1;33m\u001b[0m\u001b[0m\n\u001b[0;32m     18\u001b[0m \u001b[1;32mimport\u001b[0m \u001b[0mjson\u001b[0m\u001b[1;33m\u001b[0m\u001b[1;33m\u001b[0m\u001b[0m\n\u001b[1;32m---> 19\u001b[1;33m \u001b[0mjson_dict\u001b[0m \u001b[1;33m=\u001b[0m \u001b[0mjson\u001b[0m\u001b[1;33m.\u001b[0m\u001b[0mloads\u001b[0m\u001b[1;33m(\u001b[0m\u001b[0ma\u001b[0m\u001b[1;33m)\u001b[0m\u001b[1;33m\u001b[0m\u001b[1;33m\u001b[0m\u001b[0m\n\u001b[0m",
      "\u001b[1;32m~\\Anaconda3\\lib\\json\\__init__.py\u001b[0m in \u001b[0;36mloads\u001b[1;34m(s, encoding, cls, object_hook, parse_float, parse_int, parse_constant, object_pairs_hook, **kw)\u001b[0m\n\u001b[0;32m    346\u001b[0m             \u001b[0mparse_int\u001b[0m \u001b[1;32mis\u001b[0m \u001b[1;32mNone\u001b[0m \u001b[1;32mand\u001b[0m \u001b[0mparse_float\u001b[0m \u001b[1;32mis\u001b[0m \u001b[1;32mNone\u001b[0m \u001b[1;32mand\u001b[0m\u001b[1;33m\u001b[0m\u001b[1;33m\u001b[0m\u001b[0m\n\u001b[0;32m    347\u001b[0m             parse_constant is None and object_pairs_hook is None and not kw):\n\u001b[1;32m--> 348\u001b[1;33m         \u001b[1;32mreturn\u001b[0m \u001b[0m_default_decoder\u001b[0m\u001b[1;33m.\u001b[0m\u001b[0mdecode\u001b[0m\u001b[1;33m(\u001b[0m\u001b[0ms\u001b[0m\u001b[1;33m)\u001b[0m\u001b[1;33m\u001b[0m\u001b[1;33m\u001b[0m\u001b[0m\n\u001b[0m\u001b[0;32m    349\u001b[0m     \u001b[1;32mif\u001b[0m \u001b[0mcls\u001b[0m \u001b[1;32mis\u001b[0m \u001b[1;32mNone\u001b[0m\u001b[1;33m:\u001b[0m\u001b[1;33m\u001b[0m\u001b[1;33m\u001b[0m\u001b[0m\n\u001b[0;32m    350\u001b[0m         \u001b[0mcls\u001b[0m \u001b[1;33m=\u001b[0m \u001b[0mJSONDecoder\u001b[0m\u001b[1;33m\u001b[0m\u001b[1;33m\u001b[0m\u001b[0m\n",
      "\u001b[1;32m~\\Anaconda3\\lib\\json\\decoder.py\u001b[0m in \u001b[0;36mdecode\u001b[1;34m(self, s, _w)\u001b[0m\n\u001b[0;32m    335\u001b[0m \u001b[1;33m\u001b[0m\u001b[0m\n\u001b[0;32m    336\u001b[0m         \"\"\"\n\u001b[1;32m--> 337\u001b[1;33m         \u001b[0mobj\u001b[0m\u001b[1;33m,\u001b[0m \u001b[0mend\u001b[0m \u001b[1;33m=\u001b[0m \u001b[0mself\u001b[0m\u001b[1;33m.\u001b[0m\u001b[0mraw_decode\u001b[0m\u001b[1;33m(\u001b[0m\u001b[0ms\u001b[0m\u001b[1;33m,\u001b[0m \u001b[0midx\u001b[0m\u001b[1;33m=\u001b[0m\u001b[0m_w\u001b[0m\u001b[1;33m(\u001b[0m\u001b[0ms\u001b[0m\u001b[1;33m,\u001b[0m \u001b[1;36m0\u001b[0m\u001b[1;33m)\u001b[0m\u001b[1;33m.\u001b[0m\u001b[0mend\u001b[0m\u001b[1;33m(\u001b[0m\u001b[1;33m)\u001b[0m\u001b[1;33m)\u001b[0m\u001b[1;33m\u001b[0m\u001b[1;33m\u001b[0m\u001b[0m\n\u001b[0m\u001b[0;32m    338\u001b[0m         \u001b[0mend\u001b[0m \u001b[1;33m=\u001b[0m \u001b[0m_w\u001b[0m\u001b[1;33m(\u001b[0m\u001b[0ms\u001b[0m\u001b[1;33m,\u001b[0m \u001b[0mend\u001b[0m\u001b[1;33m)\u001b[0m\u001b[1;33m.\u001b[0m\u001b[0mend\u001b[0m\u001b[1;33m(\u001b[0m\u001b[1;33m)\u001b[0m\u001b[1;33m\u001b[0m\u001b[1;33m\u001b[0m\u001b[0m\n\u001b[0;32m    339\u001b[0m         \u001b[1;32mif\u001b[0m \u001b[0mend\u001b[0m \u001b[1;33m!=\u001b[0m \u001b[0mlen\u001b[0m\u001b[1;33m(\u001b[0m\u001b[0ms\u001b[0m\u001b[1;33m)\u001b[0m\u001b[1;33m:\u001b[0m\u001b[1;33m\u001b[0m\u001b[1;33m\u001b[0m\u001b[0m\n",
      "\u001b[1;32m~\\Anaconda3\\lib\\json\\decoder.py\u001b[0m in \u001b[0;36mraw_decode\u001b[1;34m(self, s, idx)\u001b[0m\n\u001b[0;32m    351\u001b[0m         \"\"\"\n\u001b[0;32m    352\u001b[0m         \u001b[1;32mtry\u001b[0m\u001b[1;33m:\u001b[0m\u001b[1;33m\u001b[0m\u001b[1;33m\u001b[0m\u001b[0m\n\u001b[1;32m--> 353\u001b[1;33m             \u001b[0mobj\u001b[0m\u001b[1;33m,\u001b[0m \u001b[0mend\u001b[0m \u001b[1;33m=\u001b[0m \u001b[0mself\u001b[0m\u001b[1;33m.\u001b[0m\u001b[0mscan_once\u001b[0m\u001b[1;33m(\u001b[0m\u001b[0ms\u001b[0m\u001b[1;33m,\u001b[0m \u001b[0midx\u001b[0m\u001b[1;33m)\u001b[0m\u001b[1;33m\u001b[0m\u001b[1;33m\u001b[0m\u001b[0m\n\u001b[0m\u001b[0;32m    354\u001b[0m         \u001b[1;32mexcept\u001b[0m \u001b[0mStopIteration\u001b[0m \u001b[1;32mas\u001b[0m \u001b[0merr\u001b[0m\u001b[1;33m:\u001b[0m\u001b[1;33m\u001b[0m\u001b[1;33m\u001b[0m\u001b[0m\n\u001b[0;32m    355\u001b[0m             \u001b[1;32mraise\u001b[0m \u001b[0mJSONDecodeError\u001b[0m\u001b[1;33m(\u001b[0m\u001b[1;34m\"Expecting value\"\u001b[0m\u001b[1;33m,\u001b[0m \u001b[0ms\u001b[0m\u001b[1;33m,\u001b[0m \u001b[0merr\u001b[0m\u001b[1;33m.\u001b[0m\u001b[0mvalue\u001b[0m\u001b[1;33m)\u001b[0m \u001b[1;32mfrom\u001b[0m \u001b[1;32mNone\u001b[0m\u001b[1;33m\u001b[0m\u001b[1;33m\u001b[0m\u001b[0m\n",
      "\u001b[1;31mJSONDecodeError\u001b[0m: Expecting property name enclosed in double quotes: line 1 column 2 (char 1)"
     ]
    }
   ],
   "source": [
    "dicc={\n",
    "  \"menu\": {\n",
    "    \"day\": \"29/10/2019\",\n",
    "    \"value\": \"11.50€\",\n",
    "    \"food\": {\n",
    "      \"options\": [\n",
    "        {\"starter\": \"soup\", \"main\": \"fish&chips\"},\n",
    "        {\"starter\": \"salad\", \"main\": \"pasta\"},\n",
    "        {\"starter\": \"steak tartare\", \"main\": \"tuna\"}\n",
    "      ]\n",
    "    }\n",
    "  }\n",
    "}\n",
    "print(type(dicc))\n",
    "a=str(dicc)\n",
    "print(a)\n",
    "print(type(a))\n",
    "import json\n",
    "json_dict = json.loads(a)"
   ]
  },
  {
   "cell_type": "code",
   "execution_count": 159,
   "metadata": {},
   "outputs": [
    {
     "data": {
      "text/plain": [
       "array([-5.        , -4.94974874, -4.89949749, -4.84924623, -4.79899497,\n",
       "       -4.74874372, -4.69849246, -4.64824121, -4.59798995, -4.54773869,\n",
       "       -4.49748744, -4.44723618, -4.39698492, -4.34673367, -4.29648241,\n",
       "       -4.24623116, -4.1959799 , -4.14572864, -4.09547739, -4.04522613,\n",
       "       -3.99497487, -3.94472362, -3.89447236, -3.84422111, -3.79396985,\n",
       "       -3.74371859, -3.69346734, -3.64321608, -3.59296482, -3.54271357,\n",
       "       -3.49246231, -3.44221106, -3.3919598 , -3.34170854, -3.29145729,\n",
       "       -3.24120603, -3.19095477, -3.14070352, -3.09045226, -3.04020101,\n",
       "       -2.98994975, -2.93969849, -2.88944724, -2.83919598, -2.78894472,\n",
       "       -2.73869347, -2.68844221, -2.63819095, -2.5879397 , -2.53768844,\n",
       "       -2.48743719, -2.43718593, -2.38693467, -2.33668342, -2.28643216,\n",
       "       -2.2361809 , -2.18592965, -2.13567839, -2.08542714, -2.03517588,\n",
       "       -1.98492462, -1.93467337, -1.88442211, -1.83417085, -1.7839196 ,\n",
       "       -1.73366834, -1.68341709, -1.63316583, -1.58291457, -1.53266332,\n",
       "       -1.48241206, -1.4321608 , -1.38190955, -1.33165829, -1.28140704,\n",
       "       -1.23115578, -1.18090452, -1.13065327, -1.08040201, -1.03015075,\n",
       "       -0.9798995 , -0.92964824, -0.87939698, -0.82914573, -0.77889447,\n",
       "       -0.72864322, -0.67839196, -0.6281407 , -0.57788945, -0.52763819,\n",
       "       -0.47738693, -0.42713568, -0.37688442, -0.32663317, -0.27638191,\n",
       "       -0.22613065, -0.1758794 , -0.12562814, -0.07537688, -0.02512563,\n",
       "        0.02512563,  0.07537688,  0.12562814,  0.1758794 ,  0.22613065,\n",
       "        0.27638191,  0.32663317,  0.37688442,  0.42713568,  0.47738693,\n",
       "        0.52763819,  0.57788945,  0.6281407 ,  0.67839196,  0.72864322,\n",
       "        0.77889447,  0.82914573,  0.87939698,  0.92964824,  0.9798995 ,\n",
       "        1.03015075,  1.08040201,  1.13065327,  1.18090452,  1.23115578,\n",
       "        1.28140704,  1.33165829,  1.38190955,  1.4321608 ,  1.48241206,\n",
       "        1.53266332,  1.58291457,  1.63316583,  1.68341709,  1.73366834,\n",
       "        1.7839196 ,  1.83417085,  1.88442211,  1.93467337,  1.98492462,\n",
       "        2.03517588,  2.08542714,  2.13567839,  2.18592965,  2.2361809 ,\n",
       "        2.28643216,  2.33668342,  2.38693467,  2.43718593,  2.48743719,\n",
       "        2.53768844,  2.5879397 ,  2.63819095,  2.68844221,  2.73869347,\n",
       "        2.78894472,  2.83919598,  2.88944724,  2.93969849,  2.98994975,\n",
       "        3.04020101,  3.09045226,  3.14070352,  3.19095477,  3.24120603,\n",
       "        3.29145729,  3.34170854,  3.3919598 ,  3.44221106,  3.49246231,\n",
       "        3.54271357,  3.59296482,  3.64321608,  3.69346734,  3.74371859,\n",
       "        3.79396985,  3.84422111,  3.89447236,  3.94472362,  3.99497487,\n",
       "        4.04522613,  4.09547739,  4.14572864,  4.1959799 ,  4.24623116,\n",
       "        4.29648241,  4.34673367,  4.39698492,  4.44723618,  4.49748744,\n",
       "        4.54773869,  4.59798995,  4.64824121,  4.69849246,  4.74874372,\n",
       "        4.79899497,  4.84924623,  4.89949749,  4.94974874,  5.        ])"
      ]
     },
     "execution_count": 159,
     "metadata": {},
     "output_type": "execute_result"
    }
   ],
   "source": [
    "import numpy as np\n",
    "x=np.linspace(-5,5,200)\n",
    "x"
   ]
  },
  {
   "cell_type": "code",
   "execution_count": 160,
   "metadata": {},
   "outputs": [
    {
     "data": {
      "text/plain": [
       "True"
      ]
     },
     "execution_count": 160,
     "metadata": {},
     "output_type": "execute_result"
    }
   ],
   "source": [
    "bool(8)"
   ]
  },
  {
   "cell_type": "code",
   "execution_count": 162,
   "metadata": {},
   "outputs": [],
   "source": [
    "import random"
   ]
  },
  {
   "cell_type": "code",
   "execution_count": 270,
   "metadata": {},
   "outputs": [
    {
     "ename": "TypeError",
     "evalue": "random() takes no arguments (2 given)",
     "output_type": "error",
     "traceback": [
      "\u001b[1;31m---------------------------------------------------------------------------\u001b[0m",
      "\u001b[1;31mTypeError\u001b[0m                                 Traceback (most recent call last)",
      "\u001b[1;32m<ipython-input-270-46ef0bc91d06>\u001b[0m in \u001b[0;36m<module>\u001b[1;34m\u001b[0m\n\u001b[1;32m----> 1\u001b[1;33m \u001b[0mrandom\u001b[0m\u001b[1;33m.\u001b[0m\u001b[0mrandom\u001b[0m\u001b[1;33m(\u001b[0m\u001b[1;36m3\u001b[0m\u001b[1;33m,\u001b[0m\u001b[1;36m6\u001b[0m\u001b[1;33m)\u001b[0m\u001b[1;33m\u001b[0m\u001b[1;33m\u001b[0m\u001b[0m\n\u001b[0m",
      "\u001b[1;31mTypeError\u001b[0m: random() takes no arguments (2 given)"
     ]
    }
   ],
   "source": []
  }
 ],
 "metadata": {
  "kernelspec": {
   "display_name": "Python 3",
   "language": "python",
   "name": "python3"
  },
  "language_info": {
   "codemirror_mode": {
    "name": "ipython",
    "version": 3
   },
   "file_extension": ".py",
   "mimetype": "text/x-python",
   "name": "python",
   "nbconvert_exporter": "python",
   "pygments_lexer": "ipython3",
   "version": "3.7.3"
  }
 },
 "nbformat": 4,
 "nbformat_minor": 2
}
