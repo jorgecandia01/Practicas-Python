{
 "cells": [
  {
   "cell_type": "markdown",
   "metadata": {},
   "source": [
    "## Friday 20-09-2019 \n",
    "\n",
    "### Exercise 1: Extract digits from a number and reverse it\n",
    "\n",
    "#### Note: This exercise will be reviewed again as soon as new chapters (lops and conditionals) are shown in class.\n",
    "\n",
    "Steps:\n",
    "\n",
    "1. Read a number with 3 digits and store it in variabe named as number\n",
    "2. Create new 4 variables:\n",
    "\n",
    "* units: It stores the units of the given number\n",
    "* rest1: It stores the two remaining digits of the number, after removing the units\n",
    "* tens: It stores the tens of the given number\n",
    "* hundreds:it stores the hundreds of the given number \n",
    "\n",
    "##### IMPORTANT: It is only allowed to divide by 100 or by 10**2 . Students need to used the division operands seen with the divisor = 10\n",
    "\n",
    "3. provide a messalike like the following one but with the number introduced by the user: The introduced number 123 has 3 units, 2 tens and 1 hundreds\n",
    "4 Create a new variable \"reverse\" that will store the reversed number of the given one as input.\n",
    "\n"
   ]
  },
  {
   "cell_type": "markdown",
   "metadata": {},
   "source": [
    "### Exercise 2: Simulation of a Flipping coin\n",
    "\n",
    "Steps:\n",
    "    \n",
    "1. import the following libraries: random, numpy and matplotlib\n",
    "2. Ask the user to introduce a number of coins used in the experiment. Store it in a variable called numberofcoins\n",
    "3. Generate radomly as many 0's or 1's as the number of desired flipped coins.\n",
    "   * For that we are going to use another type of for loop statement that will control the number of values generated:\n",
    "        for i in range(1,numberofcoins_int +1):\n",
    "   * We simulate the heads and the tails of the fipped coind with 0's and 1's. O means head and 1 means tail.\n",
    "   \n",
    "        coinvalue=random.randint(0,1)\n",
    "   \n",
    "4. For each flipped coin provide a message. An example of three flipped coins is given:\n",
    "\n",
    "        Flipping coin number:  1 we have obtained value:  1\n",
    "\n",
    "        Flipping coin number:  2 we have obtained value:  0\n",
    "\n",
    "        Flipping coin number:  3 we have obtained value:  1\n",
    "        \n",
    "5. Calculate themodulus of the obtained value (1 or 0) to identify if it is odd or even\n",
    "\n",
    "6. If the modulus = 0 then a new variable called head will be incremented in one. This variable will count the flipped coins that finished in head. For the one that have modulus = 1 the variable that will count the flipped coins finiched in tail will be caled tail.\n",
    "\n",
    "7. Provide an output message similar to \"After flipping 3 times a coin, we obtained 1 heads and 2 tails\"\n",
    "\n",
    "8. Create a bar chat using the plot functionality:\n",
    "\n",
    "    * Use the functions plt.yticks and plt.xticks providing to them a numpy arange: For the yticks the arange will be (0,    \n",
    "      20, 1) and for the xticks will be (0, 2, 1))\n",
    "    * to print a bar use plt.bar(atrib1,atrib2) where atrib1 values 0 or 1 depending the bar we are printing and atrib 2 is \n",
    "      the variable that contains the number of 0's or 1's obtained.\n",
    "\n",
    "\n",
    "\n",
    "     \n",
    "   \n",
    "   \n",
    "\n",
    "\n",
    "    \n"
   ]
  },
  {
   "cell_type": "markdown",
   "metadata": {},
   "source": [
    "### Exercise 3: Correct the following codes to let them run without errors"
   ]
  },
  {
   "cell_type": "code",
   "execution_count": 1,
   "metadata": {},
   "outputs": [
    {
     "ename": "SyntaxError",
     "evalue": "unexpected EOF while parsing (<ipython-input-1-67d0414f37b0>, line 6)",
     "output_type": "error",
     "traceback": [
      "\u001b[1;36m  File \u001b[1;32m\"<ipython-input-1-67d0414f37b0>\"\u001b[1;36m, line \u001b[1;32m6\u001b[0m\n\u001b[1;33m    print(\"variable 1 is %d variable 2 is  %d and variable 3 is %d \" %(var1, var2, var3)\u001b[0m\n\u001b[1;37m                                                                                        ^\u001b[0m\n\u001b[1;31mSyntaxError\u001b[0m\u001b[1;31m:\u001b[0m unexpected EOF while parsing\n"
     ]
    }
   ],
   "source": [
    "# Code 1\n",
    "var1= 2\n",
    "var2= 3.5\n",
    "var3 =\"Hola\"\n",
    "\n",
    "print(\"variable 1 is %d variable 2 is  %d and variable 3 is %d \" %(var1, var2, var3)"
   ]
  },
  {
   "cell_type": "code",
   "execution_count": 2,
   "metadata": {},
   "outputs": [
    {
     "ename": "SyntaxError",
     "evalue": "invalid syntax (<ipython-input-2-2beb4b04a393>, line 3)",
     "output_type": "error",
     "traceback": [
      "\u001b[1;36m  File \u001b[1;32m\"<ipython-input-2-2beb4b04a393>\"\u001b[1;36m, line \u001b[1;32m3\u001b[0m\n\u001b[1;33m    1variable = 2\u001b[0m\n\u001b[1;37m            ^\u001b[0m\n\u001b[1;31mSyntaxError\u001b[0m\u001b[1;31m:\u001b[0m invalid syntax\n"
     ]
    }
   ],
   "source": [
    "# Code 2 \n",
    "\n",
    "1variable = 2\n",
    "2variable = 7\n",
    "var_suma = 1variable + 2variable\n",
    "print(var_suma)"
   ]
  },
  {
   "cell_type": "code",
   "execution_count": 1,
   "metadata": {},
   "outputs": [
    {
     "ename": "SyntaxError",
     "evalue": "invalid character in identifier (<ipython-input-1-401f83de9720>, line 3)",
     "output_type": "error",
     "traceback": [
      "\u001b[1;36m  File \u001b[1;32m\"<ipython-input-1-401f83de9720>\"\u001b[1;36m, line \u001b[1;32m3\u001b[0m\n\u001b[1;33m    amount_€=input(\"Write an amount in euros and hit ENTER: \")\u001b[0m\n\u001b[1;37m           ^\u001b[0m\n\u001b[1;31mSyntaxError\u001b[0m\u001b[1;31m:\u001b[0m invalid character in identifier\n"
     ]
    }
   ],
   "source": [
    "# Code 3\n",
    "\n",
    "amount_€=input(\"Write an amount in euros and hit ENTER: \")\n",
    "\n",
    "amount_$ = amount_€ * 1,10\n",
    "\n",
    "print (\"%.2f  euros is equivalent to %.2f dollars\" %(amount_€, amount_$))\n"
   ]
  },
  {
   "cell_type": "code",
   "execution_count": null,
   "metadata": {},
   "outputs": [],
   "source": []
  },
  {
   "cell_type": "code",
   "execution_count": null,
   "metadata": {},
   "outputs": [],
   "source": []
  },
  {
   "cell_type": "code",
   "execution_count": 83,
   "metadata": {},
   "outputs": [
    {
     "name": "stdout",
     "output_type": "stream",
     "text": [
      "choose a number and write it down: 345\n"
     ]
    }
   ],
   "source": [
    "num=input(\"choose a number and write it down: \")\n",
    "number=int(num)\n",
    "hun=(\"{0:1.0f}\".format(number/100))\n",
    "hundreds=int(hun)\n",
    "rest1= (number)-(hundreds*100)\n",
    "tensstr=(\"{0:2.0f}\".format(rest1/10))\n",
    "tens=int(tensstr)\n",
    "units=(rest1)-(tens*10)\n",
    "reverse=units*100+tens*10+hundreds\n",
    "strnumber=str(number)\n",
    "strhundreds=str(hundreds)\n",
    "strrest1=str(rest1)\n",
    "strtens=str(tens)\n",
    "strunits=str(units)\n"
   ]
  },
  {
   "cell_type": "code",
   "execution_count": 84,
   "metadata": {},
   "outputs": [
    {
     "name": "stdout",
     "output_type": "stream",
     "text": [
      "The introduced number 345 has 5 units, 4 tens and 3 hundreds\n"
     ]
    }
   ],
   "source": [
    "print(\"The introduced number \"+strnumber+\" has \"+strunits+\" units, \"+strtens+\" tens and \"+strhundreds+\" hundreds\") "
   ]
  },
  {
   "cell_type": "code",
   "execution_count": null,
   "metadata": {},
   "outputs": [],
   "source": []
  },
  {
   "cell_type": "code",
   "execution_count": null,
   "metadata": {},
   "outputs": [],
   "source": []
  }
 ],
 "metadata": {
  "kernelspec": {
   "display_name": "Python 3",
   "language": "python",
   "name": "python3"
  },
  "language_info": {
   "codemirror_mode": {
    "name": "ipython",
    "version": 3
   },
   "file_extension": ".py",
   "mimetype": "text/x-python",
   "name": "python",
   "nbconvert_exporter": "python",
   "pygments_lexer": "ipython3",
   "version": "3.7.3"
  }
 },
 "nbformat": 4,
 "nbformat_minor": 2
}
